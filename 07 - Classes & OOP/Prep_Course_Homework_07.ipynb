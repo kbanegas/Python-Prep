{
 "cells": [
  {
   "cell_type": "markdown",
   "metadata": {},
   "source": [
    "\n",
    "\n",
    "Crear la clase vehículo que contenga los atributos:\n",
    "Color\n",
    "Si es moto, auto, camioneta ó camión\n",
    "Cilindrada del motor"
   ]
  },
  {
   "cell_type": "code",
   "execution_count": 30,
   "metadata": {},
   "outputs": [],
   "source": [
    "class vehiculo:\n",
    "    def __init__(self, color, tipo, cilindrada):\n",
    "        self.color= color\n",
    "        self.tipo= tipo\n",
    "        self.cilindrada= cilindrada\n",
    "          "
   ]
  },
  {
   "cell_type": "markdown",
   "metadata": {},
   "source": [
    "\n",
    "A la clase Vehiculo creada en el punto 1, agregar los siguientes métodos:\n",
    "Acelerar\n",
    "Frenar\n",
    "Doblar"
   ]
  },
  {
   "cell_type": "code",
   "execution_count": 32,
   "metadata": {},
   "outputs": [],
   "source": [
    "class vehiculo:\n",
    "    def __init__(self, color, tipo, cilindrada):\n",
    "        self.color= color\n",
    "        self.tipo= tipo\n",
    "        self.cilindrada= cilindrada\n",
    "        self.velocidad=0\n",
    "        self.direccion=0\n",
    "    def acelerar (self, vel):\n",
    "        self.velocidad += vel\n",
    "    def frenar (self, vel):\n",
    "        self.velocidad -= vel\n",
    "    def doblar (self, grados):\n",
    "        self.direccion += grados\n",
    "        \n",
    "    "
   ]
  },
  {
   "cell_type": "markdown",
   "metadata": {},
   "source": [
    "Instanciar 3 objetos de la clase vehículo y ejecutar sus métodos, probar luego el resultado"
   ]
  },
  {
   "cell_type": "code",
   "execution_count": 33,
   "metadata": {},
   "outputs": [],
   "source": [
    "class vehiculo:\n",
    "    def __init__(self, color, tipo, cilindrada):\n",
    "        self.color= color\n",
    "        self.tipo= tipo\n",
    "        self.cilindrada= cilindrada\n",
    "        self.velocidad=0\n",
    "        self.direccion=0\n",
    "    def acelerar (self, vel):\n",
    "        self.velocidad += vel\n",
    "    def frenar (self, vel):\n",
    "        self.velocidad -= vel\n",
    "    def doblar (self, grados):\n",
    "        self.direccion += grados\n",
    "a1=vehiculo('rojo', 'moto', 2)\n",
    "a2=vehiculo ('amarillo','van', 3)\n",
    "a3=vehiculo (\"plata\",\"sedan\", 5)\n",
    "\n",
    "a1.acelerar(30)\n",
    "a2.acelerar(45)\n",
    "a3.acelerar(60)\n",
    "a1.frenar(50)\n",
    "a2.frenar(20)\n",
    "a3.doblar(15)\n",
    "      "
   ]
  },
  {
   "cell_type": "markdown",
   "metadata": {},
   "source": [
    "Agregar a la clase Vehiculo, un método que muestre su estado, es decir, a que velocidad se encuentra y su dirección. Y otro método que muestre color, tipo y cilindrada"
   ]
  },
  {
   "cell_type": "code",
   "execution_count": 34,
   "metadata": {},
   "outputs": [
    {
     "name": "stdout",
     "output_type": "stream",
     "text": [
      "Mi color es  rojo mi tipo moto mi cilindrada 2\n"
     ]
    }
   ],
   "source": [
    "class vehiculo:\n",
    "    def __init__(self, color, tipo, cilindrada):\n",
    "        self.color= color\n",
    "        self.tipo= tipo\n",
    "        self.cilindrada= cilindrada\n",
    "        self.velocidad=0\n",
    "        self.direccion=0\n",
    "    def acelerar (self, vel):\n",
    "        self.velocidad += vel\n",
    "    def frenar (self, vel):\n",
    "        self.velocidad -= vel\n",
    "    def doblar (self, grados):\n",
    "        self.direccion += grados\n",
    "    def estado (self):\n",
    "        print(\"Estado\", self.vel,\"velocidad y dirección\",self.grados)\n",
    "    def muestravehiculo (self):\n",
    "        print(\"Mi color es \",self.color, \"mi tipo\", self.tipo, \"mi cilindrada\",self.cilindrada)\n",
    " \n",
    "a1=vehiculo('rojo', 'moto', 2)\n",
    "a1.muestravehiculo()"
   ]
  },
  {
   "cell_type": "markdown",
   "metadata": {},
   "source": [
    "Crear una clase que permita utilizar las funciones creadas en la práctica del módulo 6\n",
    "Verificar Primo\n",
    "Valor modal\n",
    "Conversión grados\n",
    "Factorial\n",
    "\n"
   ]
  },
  {
   "cell_type": "code",
   "execution_count": 19,
   "metadata": {},
   "outputs": [],
   "source": [
    "class Herramientas:\n",
    "    def __init__(self)->None:\n",
    "        pass\n",
    "    \n",
    "    def numeroPrimo1(self, valor):\n",
    "        # valor=(int(input(\"Digite número\")))\n",
    "        nPrimo=True\n",
    "        numero=0\n",
    "        while numero< valor:\n",
    "            if valor%2==0:\n",
    "                nPrimo =False\n",
    "                break\n",
    "            numero+=1\n",
    "            nPrimo=True\n",
    "        return (nPrimo)\n",
    "\n",
    "# valor modal\n",
    "    def Modal (self, listaNumeros2, Eleccion):\n",
    "        #listaNumeros2= []\n",
    "        acumularepetidos=[]\n",
    "        acumulaveces=[]\n",
    "        if len(listaNumeros2)==0:\n",
    "            return None\n",
    "        nveces=0\n",
    "        #Numero=int(input(\"¿Cuantos numeros va digitar?\"))\n",
    "        #for  elem in range(Numero):\n",
    "            #num1=int(input(\"Digite un numero\"))\n",
    "            #listaNumeros2.append(num1)\n",
    "        for n in listaNumeros2:\n",
    "            if n not in acumularepetidos and  listaNumeros2.count(n)>1 :\n",
    "                acumularepetidos.append(n)\n",
    "                nveces=listaNumeros2.count(n)\n",
    "                acumulaveces.append(nveces)\n",
    "        if len(acumularepetidos)==0 and len(acumulaveces)==0:\n",
    "            print(\"No hay repetidos\")\n",
    "            return None\n",
    "        else:\n",
    "            maxvalor=[max(acumularepetidos)]\n",
    "            maxveces=[max(acumulaveces)]\n",
    "            minvalor=[min(acumularepetidos)]\n",
    "            minveces=[min(acumulaveces)]\n",
    "        #Eleccion=int(input(\"Digite 1 para el menor y 2 para el mayor\"))\n",
    "        if Eleccion==True or len(acumulaveces!=0):\n",
    "            print(\"el valor\",minvalor, \"se repite\", minveces,\"veces\")\n",
    "        elif Eleccion==False or len(acumulaveces)!=0:\n",
    "            print(\"el valor\",maxvalor, \"se repite\", maxveces,\"veces\")\n",
    "        else: \n",
    "            print(\"No hay valores maximos ni minimos\")\n",
    "            maxvalor=0\n",
    "            maxveces=0\n",
    "            minvalor=0\n",
    "            minveces=0\n",
    "        return(maxvalor,maxveces,minvalor,minveces)            \n",
    "\n",
    " # conversion grados\n",
    "    def convierte(self,valor,origen, destino):\n",
    "        # valor=float(input(\"ingrese el valor a convertir\"))\n",
    "        # origen=int(input(\"De que se trata la medida? digite 1 Celcius,2 Farenheit,3 Kelvin\"))\n",
    "        # destino=int(input(\"De que se trata la medida? digite 1 Celcius,2 Farenheit,3 Kelvin\"))\n",
    "        if origen==1 and destino==2:\n",
    "            valor_destino= (valor * (9/5))+32\n",
    "        elif origen==1 and destino==3:\n",
    "            valor_destino=valor+273.15\n",
    "        elif origen==1 and destino==1:\n",
    "            valor_destino=valor\n",
    "        elif origen==2 and destino==1:\n",
    "            valor_destino=(valor-32)*9/5\n",
    "        elif origen==2 and destino==3:\n",
    "            valor_auxiliar=(valor * (9/5))+32\n",
    "            valor_destino=valor_auxiliar+273.15\n",
    "        elif origen==2 and destino==2:\n",
    "            valor_destino=valor\n",
    "        elif origen==3 and destino==1:\n",
    "            valor_destino= valor-273.15\n",
    "        elif origen==3 and destino==2:\n",
    "            valor_auxiliar=valor-273.1\n",
    "            valor_destino= (valor * (9/5))+32\n",
    "        elif origen==3 and destino==3:\n",
    "            valor_destino==valor\n",
    "        else:\n",
    "            print(\"valores incorrectos\")\n",
    "        if origen==1:\n",
    "            origen= str(\"Celsios\")\n",
    "        elif origen==2:\n",
    "            origen= str(\"Farenheit\")\n",
    "        elif origen==3:\n",
    "            origen= str(\"Kelvin\")\n",
    "        \n",
    "        print(\" Convirtiendo\", valor, origen, \"su resultado es\", valor_destino)\n",
    "        return (valor_destino)    \n",
    "\n",
    "\n",
    "#factorial\n",
    "\n",
    "    def factoreal(self, valor):\n",
    "        #valor=int(\"Digite un numero\")\n",
    "        factorial=1\n",
    "        for factor in range(1,valor+1):\n",
    "            factorial*=factor\n",
    "        return factorial\n",
    "\n",
    "    #factoreo\n",
    "    def factoreo (self, n):\n",
    "    # n=int(\"Digite un numero\")\n",
    "        if n>0:\n",
    "            listaMultiplos=[]\n",
    "            print('Numero ', n, 'Multiplos')\n",
    "            pr = 2\n",
    "            primo2 = True\n",
    "            while (pr <= n):\n",
    "                for div in range(2, pr):\n",
    "                    if (pr % div == 0):\n",
    "                        primo2 = False\n",
    "                        break\n",
    "                if (primo2):\n",
    "                    if n==pr:\n",
    "                        listaMultiplos.append(pr)\n",
    "                        # print(\"             \", pr)\n",
    "                        break\n",
    "                while n % pr == 0:\n",
    "                    n /= pr\n",
    "                    listaMultiplos.append(pr)\n",
    "                    # print(\"             \", pr)\n",
    "                # print(n)\n",
    "                else:\n",
    "                    primo2 = True\n",
    "                    pr += 1           \n",
    "        else:\n",
    "            print('Digite un número mayor que cero') \n",
    "        return(listaMultiplos)\n",
    "\n",
    "\n"
   ]
  },
  {
   "cell_type": "code",
   "execution_count": 2,
   "metadata": {},
   "outputs": [],
   "source": [
    "Hn =Herramientas()"
   ]
  },
  {
   "cell_type": "markdown",
   "metadata": {},
   "source": [
    "Probar las funciones incorporadas en la clase del punto 5\n",
    "\n"
   ]
  },
  {
   "cell_type": "code",
   "execution_count": 3,
   "metadata": {},
   "outputs": [
    {
     "name": "stdout",
     "output_type": "stream",
     "text": [
      "True\n"
     ]
    }
   ],
   "source": [
    "pn=Hn.numeroPrimo1(45)\n",
    "print(pn)"
   ]
  },
  {
   "cell_type": "code",
   "execution_count": 4,
   "metadata": {},
   "outputs": [
    {
     "name": "stdout",
     "output_type": "stream",
     "text": [
      " Convirtiendo 45 Celsios su resultado es 318.15\n"
     ]
    },
    {
     "data": {
      "text/plain": [
       "318.15"
      ]
     },
     "execution_count": 4,
     "metadata": {},
     "output_type": "execute_result"
    }
   ],
   "source": [
    "\n",
    "Hn.convierte(45,1,3)"
   ]
  },
  {
   "cell_type": "code",
   "execution_count": 5,
   "metadata": {},
   "outputs": [
    {
     "name": "stdout",
     "output_type": "stream",
     "text": [
      "No hay repetidos\n"
     ]
    }
   ],
   "source": [
    "listaNumeros2=[1,2,3,4,5,6]\n",
    "\n",
    "Hn.Modal(listaNumeros2,True)\n"
   ]
  },
  {
   "cell_type": "code",
   "execution_count": 6,
   "metadata": {},
   "outputs": [
    {
     "data": {
      "text/plain": [
       "120"
      ]
     },
     "execution_count": 6,
     "metadata": {},
     "output_type": "execute_result"
    }
   ],
   "source": [
    "Hn.factoreal(5)"
   ]
  },
  {
   "cell_type": "code",
   "execution_count": 7,
   "metadata": {},
   "outputs": [
    {
     "name": "stdout",
     "output_type": "stream",
     "text": [
      "Numero  50 Multiplos\n"
     ]
    },
    {
     "data": {
      "text/plain": [
       "[2, 5, 5]"
      ]
     },
     "execution_count": 7,
     "metadata": {},
     "output_type": "execute_result"
    }
   ],
   "source": [
    "Hn.factoreo(50)"
   ]
  },
  {
   "cell_type": "markdown",
   "metadata": {},
   "source": [
    "7) Es necesario que la clase creada en el punto 5 contenga una lista, sobre la cual se aplquen las funciones incorporadas\n"
   ]
  },
  {
   "cell_type": "code",
   "execution_count": 20,
   "metadata": {},
   "outputs": [],
   "source": [
    "class Herramientas:\n",
    "    def __init__(self, listaNumeros1):\n",
    "        self.lista=listaNumeros1\n",
    "    \n",
    "    def numeroPrimo1(self):\n",
    "        # valor=(int(input(\"Digite número\")))\n",
    "        nPrimo=True\n",
    "        numero=0\n",
    "        for i in self.lista:\n",
    "            while numero< i:\n",
    "                if i%2==0:\n",
    "                    nPrimo =False\n",
    "                    break\n",
    "                numero+=1\n",
    "                nPrimo=True\n",
    "            return (nPrimo)\n",
    "\n",
    "# valor modal\n",
    "    def Modal (self,Eleccion):\n",
    "        #listaNumeros2= []\n",
    "        acumularepetidos=[]\n",
    "        acumulaveces=[]\n",
    "        if len(self.lista)==0:\n",
    "            return None\n",
    "        nveces=0\n",
    "        #Numero=int(input(\"¿Cuantos numeros va digitar?\"))\n",
    "        #for  elem in range(Numero):\n",
    "            #num1=int(input(\"Digite un numero\"))\n",
    "            #listaNumeros2.append(num1)\n",
    "        for n in self.lista:\n",
    "            if n not in acumularepetidos and  self.lista.count(n)>1 :\n",
    "                acumularepetidos.append(n)\n",
    "                nveces=self.lista.count(n)\n",
    "                acumulaveces.append(nveces)\n",
    "        if len(acumularepetidos)==0 and len(acumulaveces)==0:\n",
    "            print(\"No hay repetidos\")\n",
    "            return None\n",
    "        else:\n",
    "            maxvalor=[max(acumularepetidos)]\n",
    "            maxveces=[max(acumulaveces)]\n",
    "            minvalor=[min(acumularepetidos)]\n",
    "            minveces=[min(acumulaveces)]\n",
    "        #Eleccion=int(input(\"Digite 1 para el menor y 2 para el mayor\"))\n",
    "        if Eleccion==True or len(acumulaveces!=0):\n",
    "            print(\"el valor\",minvalor, \"se repite\", minveces,\"veces\")\n",
    "        elif Eleccion==False or len(acumulaveces)!=0:\n",
    "            print(\"el valor\",maxvalor, \"se repite\", maxveces,\"veces\")\n",
    "        else: \n",
    "            print(\"No hay valores maximos ni minimos\")\n",
    "            maxvalor=0\n",
    "            maxveces=0\n",
    "            minvalor=0\n",
    "            minveces=0\n",
    "        return(maxvalor,maxveces,minvalor,minveces)            \n",
    "\n",
    " # conversion grados\n",
    "    def convierte(self, origen, destino):\n",
    "        # valor=float(input(\"ingrese el valor a convertir\"))\n",
    "        # origen=int(input(\"De que se trata la medida? digite 1 Celcius,2 Farenheit,3 Kelvin\"))\n",
    "        # destino=int(input(\"De que se trata la medida? digite 1 Celcius,2 Farenheit,3 Kelvin\"))\n",
    "        for i in self.lista:\n",
    "            if origen==1 and destino==2:\n",
    "                valor_destino= (i * (9/5))+32\n",
    "            elif origen==1 and destino==3:\n",
    "                valor_destino=i+273.15\n",
    "            elif origen==1 and destino==1:\n",
    "                valor_destino=i\n",
    "            elif origen==2 and destino==1:\n",
    "                valor_destino=(i-32)*9/5\n",
    "            elif origen==2 and destino==3:\n",
    "                valor_auxiliar=(i * (9/5))+32\n",
    "                valor_destino=valor_auxiliar+273.15\n",
    "            elif origen==2 and destino==2:\n",
    "                valor_destino=i\n",
    "            elif origen==3 and destino==1:\n",
    "                valor_destino= i-273.15\n",
    "            elif origen==3 and destino==2:\n",
    "                valor_auxiliar=i-273.1\n",
    "                valor_destino= (i * (9/5))+32\n",
    "            elif origen==3 and destino==3:\n",
    "                valor_destino==i\n",
    "            else:\n",
    "                print(\"valores incorrectos\")\n",
    "            if origen==1:\n",
    "                origen= str(\"Celsios\")\n",
    "            elif origen==2:\n",
    "                origen= str(\"Farenheit\")\n",
    "            elif origen==3:\n",
    "                origen= str(\"Kelvin\")\n",
    "            \n",
    "            print(\" Convirtiendo\", i, origen, \"su resultado es\", valor_destino)\n",
    "            return (self.lista)    \n",
    "\n",
    "\n",
    "#factorial\n",
    "\n",
    "    def factoreal(self):\n",
    "        #valor=int(\"Digite un numero\")\n",
    "        factorial=1\n",
    "        for i in self.lista:\n",
    "            for factor in range(1,i+1):\n",
    "                factorial*=factor\n",
    "            return factorial\n",
    "\n",
    "    #factoreo\n",
    "    def factoreo (self):\n",
    "    # n=int(\"Digite un numero\")\n",
    "        for  i in self.lista:\n",
    "            if i>0:\n",
    "                listaMultiplos=[]\n",
    "                print('Numero ', i, 'Multiplos')\n",
    "                pr = 2\n",
    "                primo2 = True\n",
    "                while (pr <= i):\n",
    "                    for div in range(2, pr):\n",
    "                        if (pr % div == 0):\n",
    "                            primo2 = False\n",
    "                            break\n",
    "                    if (primo2):\n",
    "                        if i==pr:\n",
    "                            listaMultiplos.append(pr)\n",
    "                            # print(\"             \", pr)\n",
    "                            break\n",
    "                    while i % pr == 0:\n",
    "                        i /= pr\n",
    "                        listaMultiplos.append(pr)\n",
    "                        # print(\"             \", pr)\n",
    "                    # print(n)\n",
    "                    else:\n",
    "                        primo2 = True\n",
    "                        pr += 1           \n",
    "            else:\n",
    "                print('Digite un número mayor que cero') \n",
    "            return(listaMultiplos)\n"
   ]
  },
  {
   "cell_type": "code",
   "execution_count": 9,
   "metadata": {},
   "outputs": [],
   "source": [
    "H21 = Herramientas([1,2,3,3,3,5,6,5])"
   ]
  },
  {
   "cell_type": "code",
   "execution_count": 10,
   "metadata": {},
   "outputs": [
    {
     "name": "stdout",
     "output_type": "stream",
     "text": [
      " Convirtiendo 1 Celsios su resultado es 33.8\n"
     ]
    },
    {
     "data": {
      "text/plain": [
       "33.8"
      ]
     },
     "execution_count": 10,
     "metadata": {},
     "output_type": "execute_result"
    }
   ],
   "source": [
    "H21.convierte(1,2)"
   ]
  },
  {
   "cell_type": "code",
   "execution_count": 11,
   "metadata": {},
   "outputs": [
    {
     "data": {
      "text/plain": [
       "True"
      ]
     },
     "execution_count": 11,
     "metadata": {},
     "output_type": "execute_result"
    }
   ],
   "source": [
    "H21.numeroPrimo1()"
   ]
  },
  {
   "cell_type": "code",
   "execution_count": 12,
   "metadata": {},
   "outputs": [
    {
     "name": "stdout",
     "output_type": "stream",
     "text": [
      "el valor [3] se repite [2] veces\n"
     ]
    },
    {
     "data": {
      "text/plain": [
       "([5], [3], [3], [2])"
      ]
     },
     "execution_count": 12,
     "metadata": {},
     "output_type": "execute_result"
    }
   ],
   "source": [
    "H21.Modal(1)"
   ]
  },
  {
   "cell_type": "markdown",
   "metadata": {},
   "source": [
    " Crear un archivo .py aparte y ubicar allí la clase generada en el punto anterior. Luego realizar la importación del módulo y probar alguna de sus funciones"
   ]
  },
  {
   "cell_type": "code",
   "execution_count": 1,
   "metadata": {},
   "outputs": [],
   "source": [
    "import sys\n",
    "sys.path.append(r'C:\\Users\\karen\\OneDrive\\Documentos\\Python-Prep\\07 - Classes & OOP\\Clase1.py')"
   ]
  },
  {
   "cell_type": "code",
   "execution_count": 2,
   "metadata": {},
   "outputs": [],
   "source": [
    "import Clase1 as h"
   ]
  },
  {
   "cell_type": "code",
   "execution_count": 3,
   "metadata": {},
   "outputs": [],
   "source": [
    "from Clase1 import*"
   ]
  },
  {
   "cell_type": "code",
   "execution_count": 22,
   "metadata": {},
   "outputs": [],
   "source": [
    "H2= h.Herramientas([1,2,3,5,8,5,2,4])"
   ]
  },
  {
   "cell_type": "code",
   "execution_count": 23,
   "metadata": {},
   "outputs": [
    {
     "name": "stdout",
     "output_type": "stream",
     "text": [
      " Convirtiendo 1 Farenheit su resultado es 306.95\n"
     ]
    },
    {
     "data": {
      "text/plain": [
       "306.95"
      ]
     },
     "execution_count": 23,
     "metadata": {},
     "output_type": "execute_result"
    }
   ],
   "source": [
    "H2.convierte(2,3)"
   ]
  }
 ],
 "metadata": {
  "interpreter": {
   "hash": "b35ed1df05edd0842942baf167e6250511f44c85ae8ec969dd438632ac46721e"
  },
  "kernelspec": {
   "display_name": "Python 3.9.10 64-bit",
   "language": "python",
   "name": "python3"
  },
  "language_info": {
   "codemirror_mode": {
    "name": "ipython",
    "version": 3
   },
   "file_extension": ".py",
   "mimetype": "text/x-python",
   "name": "python",
   "nbconvert_exporter": "python",
   "pygments_lexer": "ipython3",
   "version": "3.9.10"
  },
  "orig_nbformat": 4
 },
 "nbformat": 4,
 "nbformat_minor": 2
}
