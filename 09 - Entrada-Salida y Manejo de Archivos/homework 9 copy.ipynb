{
 "cells": [
  {
   "cell_type": "markdown",
   "metadata": {},
   "source": [
    " Crear un script con el nombre \"clase09_ej1.py\" que reciba 3 parametros a elección, verificando que sean exactamente esa cantidad, y muestre como salida los parámetros recibidos"
   ]
  },
  {
   "cell_type": "markdown",
   "metadata": {},
   "source": [
    "Crear un script con el nombre \"clase09_ej2.py2\" que reciba como un valor de temperatura en grados centígrados, un valor de humedad y por último si llovio (Con True o False). Y que cada vez que sea invocado, cargue en el archivo provisto \"clase09_ej2.csv\" una marca de tiempo y esa información."
   ]
  },
  {
   "cell_type": "markdown",
   "metadata": {},
   "source": [
    "Para trabajar con tipos de datos relacionados con la medición del tiempo, como ser fechas, horarios o marcas de tiempo se puede utilizar la clase *datetime*"
   ]
  },
  {
   "cell_type": "code",
   "execution_count": null,
   "metadata": {},
   "outputs": [],
   "source": [
    "import datetime"
   ]
  },
  {
   "cell_type": "code",
   "execution_count": null,
   "metadata": {},
   "outputs": [],
   "source": [
    "x = datetime.datetime.now()\n",
    "print(\"Ahora =\",x)\n",
    "x = datetime.datetime(2020, 5, 10)\n",
    "print(\"Fecha fija =\",x)"
   ]
  },
  {
   "cell_type": "code",
   "execution_count": null,
   "metadata": {},
   "outputs": [],
   "source": [
    "fecha_hora = '2022-05-10 12:30:00'\n",
    "objeto_datetime = datetime.datetime.strptime(fecha_hora, '%Y-%m-%d %H:%M:%S')\n",
    "print(\"objeto datetime =\", objeto_datetime)\n",
    "marca_de_tiempo = datetime.datetime.timestamp(objeto_datetime)\n",
    "print(\"timestamp =\", marca_de_tiempo)\n",
    "fecha_hora2 = datetime.datetime.fromtimestamp(marca_de_tiempo)\n",
    "print(\"fecha hora =\", fecha_hora2)"
   ]
  },
  {
   "cell_type": "code",
   "execution_count": null,
   "metadata": {},
   "outputs": [],
   "source": [
    "import os\n",
    "lineas_archivo = ['Esto es un archivo de ejemplo','Segunda linea','Tercera linea']"
   ]
  },
  {
   "cell_type": "code",
   "execution_count": null,
   "metadata": {},
   "outputs": [],
   "source": [
    "archivo = open('datos.txt', 'w')"
   ]
  },
  {
   "cell_type": "code",
   "execution_count": null,
   "metadata": {},
   "outputs": [],
   "source": [
    "import sys\n",
    "# Comprobación de seguridad, ejecutar sólo si se reciben 2 \n",
    "# argumentos realemente\n",
    "if len(sys.argv) == 3:\n",
    "    texto = sys.argv[1]\n",
    "    repeticiones = int(sys.argv[2])\n",
    "    for r in range(repeticiones):\n",
    "        print(texto)\n",
    "else:\n",
    "    print(\"ERROR: Introdujo uno (1) o más de dos (2) argumentos\")\n",
    "    print(\"SOLUCIÓN: Introduce los argumentos correctamente\")\n",
    "    print('Ejemplo: ejemplo_parametros.py \"Texto\" 5')\n",
    "\n",
    "print(\"El argumento 0 es el nombre del archivo:\", sys.argv[0])"
   ]
  },
  {
   "cell_type": "code",
   "execution_count": null,
   "metadata": {},
   "outputs": [],
   "source": [
    "import sys\n",
    "# Comprobación de seguridad, ejecutar sólo si se recibe 3 argumentos\n",
    "if len(sys.argv) == 4:\n",
    "    import datetime\n",
    "    import os\n",
    "    marca_de_tiempo = datetime.datetime.now()\n",
    "    marca_de_tiempo = datetime.datetime.timestamp(marca_de_tiempo)\n",
    "\n",
    "    temperatura = sys.argv[1]\n",
    "    humedad = sys.argv[2]\n",
    "    lluvia = sys.argv[3]\n",
    "    linea = str(marca_de_tiempo) + ',' + temperatura + ',' + humedad + ',' + lluvia\n",
    "\n",
    "    logs_lluvia = open('clase09_ej2.csv', 'a')\n",
    "    logs_lluvia.write(linea+'\\n')\n",
    "    logs_lluvia.close()\n",
    "\n",
    "else:\n",
    "    print(\"ERROR: Introdujo una cantidad de argumentos distinta de tres (3)\")\n",
    "    print('Ejemplo: clase09_ej1.py <temperatura> <humedad> <True o False>')"
   ]
  },
  {
   "cell_type": "code",
   "execution_count": null,
   "metadata": {},
   "outputs": [],
   "source": [
    "import sys\n",
    "# Comprobación de seguridad, ejecutar sólo si se recibe 3 argumentos\n",
    "if len(sys.argv) == 4:\n",
    "    print(\"El primer parámetro es:\",sys.argv[1])\n",
    "    print(\"El segundo parámetro es:\",sys.argv[2])\n",
    "    print(\"El tercer parámetro es:\",sys.argv[3])\n",
    "else:\n",
    "    print(\"ERROR: Introdujo una cantidad de argumentos distinta de tres (3)\")\n",
    "    print('Ejemplo: clase09_ej1.py 1 2 3')"
   ]
  }
 ],
 "metadata": {
  "language_info": {
   "name": "python"
  },
  "orig_nbformat": 4
 },
 "nbformat": 4,
 "nbformat_minor": 2
}
