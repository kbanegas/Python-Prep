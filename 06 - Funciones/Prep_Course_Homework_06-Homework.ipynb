{
 "cells": [
  {
   "cell_type": "markdown",
   "metadata": {},
   "source": [
    "Crear una función que reciba un número como parámetro y devuelva si True si es primo y False si no lo es"
   ]
  },
  {
   "cell_type": "code",
   "execution_count": 45,
   "metadata": {},
   "outputs": [],
   "source": [
    "def numeroPrimo1(valor):\n",
    "    valor=(int(input(\"Digite número\")))\n",
    "    nPrimo=True\n",
    "    numero=0\n",
    "    while numero<valor:\n",
    "        if valor%2==0:\n",
    "            nPrimo =False\n",
    "            break\n",
    "        numero+=1\n",
    "        nPrimo=True\n",
    "    return (nPrimo)\n",
    "  \n",
    "    \n"
   ]
  },
  {
   "cell_type": "markdown",
   "metadata": {},
   "source": [
    "Utilizando la función del punto 1, realizar otra función que reciba de parámetro una lista de números y devuelva sólo aquellos que son primos en otra lista\n",
    "\n"
   ]
  },
  {
   "cell_type": "code",
   "execution_count": 48,
   "metadata": {},
   "outputs": [
    {
     "data": {
      "text/plain": [
       "[1, 3, 5, 7, 9]"
      ]
     },
     "execution_count": 48,
     "metadata": {},
     "output_type": "execute_result"
    }
   ],
   "source": [
    "def numeroPrimo(valor):\n",
    "    nPrimo=True\n",
    "    numero=0\n",
    "    while numero<valor:\n",
    "        if valor%2==0:\n",
    "            nPrimo =False\n",
    "            break\n",
    "        numero+=1\n",
    "        nPrimo=True\n",
    "    return (nPrimo)\n",
    "  \n",
    "\n",
    "\n",
    "def imprimePrimos():\n",
    "    listaNumeros=[1,2,3,4,5,6,7,8,9,10]\n",
    "    acumulaPrimos=[]\n",
    "    for num in listaNumeros:\n",
    "        if numeroPrimo(num)==True:  \n",
    "            acumulaPrimos.append(num)\n",
    "    return(acumulaPrimos)  \n",
    "        \n",
    "         \n",
    "imprimePrimos()  "
   ]
  },
  {
   "cell_type": "markdown",
   "metadata": {},
   "source": [
    "Crear una función que al recibir una lista de números, devuelva el que más se repite y cuántas veces lo hace. Si hay más de un \"más repetido\", que devuelva cualquiera"
   ]
  },
  {
   "cell_type": "code",
   "execution_count": 107,
   "metadata": {},
   "outputs": [
    {
     "name": "stdout",
     "output_type": "stream",
     "text": [
      "el valor [2] se repite [2] veces\n"
     ]
    }
   ],
   "source": [
    "def interacNumeros ():\n",
    "    listaNumeros2= []\n",
    "    acumularepetidos=[]\n",
    "    acumulaveces=[]\n",
    "    nveces=0\n",
    "    Numero=int(input(\"¿Cuantos numeros va digitar?\"))\n",
    "    for  elem in range(Numero):\n",
    "        num1=int(input(\"Digite un numero\"))\n",
    "        listaNumeros2.append(num1)\n",
    "    for n in listaNumeros2:\n",
    "        if n not in acumularepetidos and  listaNumeros2.count(n)>1 :\n",
    "            acumularepetidos.append(n)\n",
    "            nveces=listaNumeros2.count(n)\n",
    "            acumulaveces.append(nveces)\n",
    "        maxvalor=[max(acumularepetidos)]\n",
    "        maxveces=[max(acumulaveces)]\n",
    "    print(\"el valor\",maxvalor, \"se repite\", maxveces,\"veces\")\n",
    "    return maxvalor,maxveces\n",
    "                \n",
    "\n",
    "interacNumeros()"
   ]
  },
  {
   "cell_type": "markdown",
   "metadata": {},
   "source": [
    "\n",
    "A la función del punto 3, agregar un parámetro más, que permita elegir si se requiere el menor o el mayor de los mas repetidos."
   ]
  },
  {
   "cell_type": "code",
   "execution_count": 117,
   "metadata": {},
   "outputs": [
    {
     "name": "stdout",
     "output_type": "stream",
     "text": [
      "el valor [2] se repite [3] veces\n"
     ]
    },
    {
     "data": {
      "text/plain": [
       "([2], [3], [1], [2])"
      ]
     },
     "execution_count": 117,
     "metadata": {},
     "output_type": "execute_result"
    }
   ],
   "source": [
    "def interacNumeros ():\n",
    "    listaNumeros2= []\n",
    "    acumularepetidos=[]\n",
    "    acumulaveces=[]\n",
    "    nveces=0\n",
    "    Numero=int(input(\"¿Cuantos numeros va digitar?\"))\n",
    "    for  elem in range(Numero):\n",
    "        num1=int(input(\"Digite un numero\"))\n",
    "        listaNumeros2.append(num1)\n",
    "    for n in listaNumeros2:\n",
    "        if n not in acumularepetidos and  listaNumeros2.count(n)>1 :\n",
    "            acumularepetidos.append(n)\n",
    "            nveces=listaNumeros2.count(n)\n",
    "            acumulaveces.append(nveces)\n",
    "        maxvalor=[max(acumularepetidos)]\n",
    "        maxveces=[max(acumulaveces)]\n",
    "        minvalor=[min(acumularepetidos)]\n",
    "        minveces=[min(acumulaveces)]\n",
    "    Eleccion=int(input(\"Digite 1 para el menor y 2 para el mayor\"))\n",
    "    if Eleccion==1:\n",
    "        print(\"el valor\",minvalor, \"se repite\", minveces,\"veces\")\n",
    "    elif Eleccion==2:\n",
    "        print(\"el valor\",maxvalor, \"se repite\", maxveces,\"veces\")\n",
    "    return(maxvalor,maxveces,minvalor,minveces)            \n",
    "\n",
    "interacNumeros()"
   ]
  },
  {
   "cell_type": "markdown",
   "metadata": {},
   "source": [
    "Crear una función que convierta entre grados Celsius, Farenheit y Kelvin\n",
    "Fórmula 1 : (°C × 9/5) + 32 = °F\n",
    "Fórmula 2 : °C + 273.15 = °K\n",
    "Debe recibir 3 parámetros: el valor, la medida de orígen y la medida de destino"
   ]
  },
  {
   "cell_type": "code",
   "execution_count": 11,
   "metadata": {},
   "outputs": [
    {
     "name": "stdout",
     "output_type": "stream",
     "text": [
      " Convirtiendo 15 Farenheit su resultado es -30.6\n"
     ]
    },
    {
     "data": {
      "text/plain": [
       "-30.6"
      ]
     },
     "execution_count": 11,
     "metadata": {},
     "output_type": "execute_result"
    }
   ],
   "source": [
    "def convierte(valor,origen, destino):\n",
    "    # valor=float(input(\"ingrese el valor a convertir\"))\n",
    "    # origen=int(input(\"De que se trata la medida? digite 1 Celcius,2 Farenheit,3 Kelvin\"))\n",
    "    # destino=int(input(\"De que se trata la medida? digite 1 Celcius,2 Farenheit,3 Kelvin\"))\n",
    "    if origen==1 and destino==2:\n",
    "        valor_destino= (valor * (9/5))+32\n",
    "    elif origen==1 and destino==3:\n",
    "        valor_destino=valor+273.15\n",
    "    elif origen==1 and destino==1:\n",
    "        valor_destino=valor\n",
    "    elif origen==2 and destino==1:\n",
    "        valor_destino=(valor-32)*9/5\n",
    "    elif origen==2 and destino==3:\n",
    "        valor_auxiliar=(valor * (9/5))+32\n",
    "        valor_destino=valor_auxiliar+273.15\n",
    "    elif origen==2 and destino==2:\n",
    "        valor_destino=valor\n",
    "    elif origen==3 and destino==1:\n",
    "        valor_destino= valor-273.15\n",
    "    elif origen==3 and destino==2:\n",
    "        valor_auxiliar=valor-273.1\n",
    "        valor_destino= (valor_auxiliar * (9/5))+32\n",
    "    elif origen==3 and destino==3:\n",
    "        valor_destino=valor\n",
    "    else:\n",
    "        print(\"valores incorrectos\")\n",
    "    if origen==1:\n",
    "        origen= str(\"Celsios\")\n",
    "    elif origen==2:\n",
    "        origen= str(\"Farenheit\")\n",
    "    elif origen==3:\n",
    "        origen= str(\"Kelvin\")\n",
    "        \n",
    "    print(\" Convirtiendo\", valor, origen, \"su resultado es\", valor_destino)\n",
    "    return (valor_destino)    \n",
    "\n",
    "convierte(15,2,1)\n",
    "            \n"
   ]
  },
  {
   "cell_type": "markdown",
   "metadata": {},
   "source": [
    "Iterando una lista con los tres valores posibles de temperatura que recibe la función del punto 5, hacer un print para cada combinación de los mismos:"
   ]
  },
  {
   "cell_type": "code",
   "execution_count": 12,
   "metadata": {},
   "outputs": [
    {
     "name": "stdout",
     "output_type": "stream",
     "text": [
      " Convirtiendo 1 Celsios su resultado es 1\n",
      "1 grado 1 a 1 : 1\n",
      " Convirtiendo 1 Celsios su resultado es 33.8\n",
      "1 grado 1 a 2 : 33.8\n",
      " Convirtiendo 1 Celsios su resultado es 274.15\n",
      "1 grado 1 a 3 : 274.15\n",
      " Convirtiendo 1 Farenheit su resultado es -55.8\n",
      "1 grado 2 a 1 : -55.8\n",
      " Convirtiendo 1 Farenheit su resultado es 1\n",
      "1 grado 2 a 2 : 1\n",
      " Convirtiendo 1 Farenheit su resultado es 306.95\n",
      "1 grado 2 a 3 : 306.95\n",
      " Convirtiendo 1 Kelvin su resultado es -272.15\n",
      "1 grado 3 a 1 : -272.15\n",
      " Convirtiendo 1 Kelvin su resultado es -457.78000000000003\n",
      "1 grado 3 a 2 : -457.78000000000003\n",
      " Convirtiendo 1 Kelvin su resultado es 1\n",
      "1 grado 3 a 3 : 1\n"
     ]
    }
   ],
   "source": [
    "temperaturas= [1,2,3]\n",
    "for i in range(0,3):\n",
    "    for j in range(0,3):\n",
    "        print('1 grado', temperaturas[i], 'a', temperaturas[j],':', convierte(1,temperaturas[i], temperaturas[j]))\n",
    "               "
   ]
  },
  {
   "cell_type": "markdown",
   "metadata": {},
   "source": [
    " Armar una función que devuelva el factorial de un número. Tener en cuenta que el usuario puede equivocarse y enviar de parámetro un número no entero o negativo"
   ]
  },
  {
   "cell_type": "code",
   "execution_count": 33,
   "metadata": {},
   "outputs": [
    {
     "name": "stdout",
     "output_type": "stream",
     "text": [
      "120\n",
      "El valor tiene que ser mayor a cero\n",
      " El valor tiene que ser un numero entero\n"
     ]
    }
   ],
   "source": [
    "def factorial (valor):\n",
    "    if valor<0:\n",
    "        return \"El valor tiene que ser mayor a cero\"\n",
    "    if type(valor) != int:\n",
    "        return \" El valor tiene que ser un numero entero\"\n",
    "    if valor > 1:\n",
    "        valor =valor * factorial (valor-1)\n",
    "    return valor\n",
    "        \n",
    "print(factorial(5))  \n",
    "print(factorial(-5))   \n",
    "print(factorial(1.2356))  \n"
   ]
  }
 ],
 "metadata": {
  "interpreter": {
   "hash": "b35ed1df05edd0842942baf167e6250511f44c85ae8ec969dd438632ac46721e"
  },
  "kernelspec": {
   "display_name": "Python 3.9.10 64-bit",
   "language": "python",
   "name": "python3"
  },
  "language_info": {
   "codemirror_mode": {
    "name": "ipython",
    "version": 3
   },
   "file_extension": ".py",
   "mimetype": "text/x-python",
   "name": "python",
   "nbconvert_exporter": "python",
   "pygments_lexer": "ipython3",
   "version": "3.9.10"
  },
  "orig_nbformat": 4
 },
 "nbformat": 4,
 "nbformat_minor": 2
}
