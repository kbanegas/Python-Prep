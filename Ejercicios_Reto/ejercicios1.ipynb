{
 "cells": [
  {
   "cell_type": "code",
   "execution_count": 53,
   "metadata": {},
   "outputs": [
    {
     "data": {
      "text/plain": [
       "'My first name is Karen,my surname is Banegas'"
      ]
     },
     "execution_count": 53,
     "metadata": {},
     "output_type": "execute_result"
    }
   ],
   "source": [
    "class Challenger1_2:\n",
    "    def __init__ (self):\n",
    "        self.__first_name=input(\"What is your first name?\")\n",
    "        self.__surname=input(\"Write your surname\")\n",
    "        self.Complited_name()\n",
    "\n",
    "    def Complited_name(self) :\n",
    "        Concatena= \"My first name is \"+ self.__first_name + \",\"  +\"my surname is \"+ self.__surname\n",
    "        return Concatena\n",
    "\n",
    "Nombre= Challenger1_2()\n",
    "\n",
    "Nombre.Complited_name()\n",
    "\n",
    "\n"
   ]
  },
  {
   "cell_type": "markdown",
   "metadata": {},
   "source": [
    "Otra forma de hacer el Challenger1_2 seria con metodos internos."
   ]
  },
  {
   "cell_type": "code",
   "execution_count": 2,
   "metadata": {},
   "outputs": [
    {
     "name": "stdout",
     "output_type": "stream",
     "text": [
      "My first name is Karen, my surname is Banegas\n",
      "My name KarenBanegas Next birthday you will be 47\n"
     ]
    }
   ],
   "source": [
    "class Challenger1_2:\n",
    "    def __init__ (self):\n",
    "        self.__first_name=input(\"What is your first name?\")\n",
    "        self.__surname=input(\"Write your surname\")\n",
    "\n",
    "    def __str__(self) :\n",
    "        return  \"My first name is \"+ self.__first_name + \", \" +\"my surname is \"+ self.__surname\n",
    "    \n",
    "    def Edad(self):\n",
    "        self.__edad=int(input(\"write your age\"))\n",
    "        self.__edad+=1\n",
    "        return \"My name \" + self.__first_name + \" \" + self.__surname + \" Next birthday you will be \"+ str(self.__edad)\n",
    "\n",
    "       \n",
    "\n",
    "Nombre= Challenger1_2()\n",
    "print(Nombre)\n",
    "print(Nombre.Edad())"
   ]
  },
  {
   "cell_type": "code",
   "execution_count": 13,
   "metadata": {},
   "outputs": [
    {
     "name": "stdout",
     "output_type": "stream",
     "text": [
      "What do you call a bear with no teeth? \n",
      " A gummy bear!\n"
     ]
    }
   ],
   "source": [
    "class Challenger1_3:\n",
    "    def __init__(self):\n",
    "        pass\n",
    "    def __str__(self):\n",
    "        \n",
    "        return \"What do you call a bear with no teeth? \\n A gummy bear!\"\n",
    "\n",
    "\n",
    "llamador= Challenger1_3()\n",
    "print(llamador)\n",
    "\n"
   ]
  },
  {
   "cell_type": "code",
   "execution_count": 6,
   "metadata": {},
   "outputs": [
    {
     "name": "stdout",
     "output_type": "stream",
     "text": [
      "The total is  15.0\n",
      "The answer is  250.0\n",
      "I have 10.0 but I'm hungry so, I ate 5.0  Now I have 5.0\n",
      "Everyone, to pay 2.0\n",
      "El peso en Kilogramos es 10.0 equivale en libras 22.04\n"
     ]
    }
   ],
   "source": [
    "class Challenger1_4:\n",
    "    def __init__(self):\n",
    "        self.__number1=float(input(\"First Number\"))\n",
    "        self.__number2=float(input(\"Second Number\"))\n",
    "        \n",
    "    def suma(self):\n",
    "        sumar=self.__number1 + self.__number2\n",
    "        return sumar\n",
    "    \n",
    "    def Multiplicar(self):\n",
    "        self.__number3=float(input(\"Thirst Number\"))\n",
    "        part1=self.__number1 * self.__number2\n",
    "        part2=part1 * self.__number3\n",
    "        return(part2)\n",
    "\n",
    "    def TrozosPizza(self):\n",
    "        inventario=self.__number1 - self.__number2\n",
    "        return f'''I have {self.__number1} but I'm hungry so, I ate {self.__number2}  Now I have {inventario}'''\n",
    "    \n",
    "    def Factura(self):\n",
    "        self.__number3=self.__number1 / self.__number2\n",
    "        return\"Everyone, to pay \" + str(self.__number3)\n",
    "    \n",
    "    def Pound(self):\n",
    "        self.__Libras= self.__number1*2.204\n",
    "        return f'El peso en Kilogramos es {str(self.__number1)} equivale en libras {self.__Libras:.2F}'\n",
    "    \n",
    "\n",
    "    \n",
    "\n",
    "call= Challenger1_4()\n",
    "print(\"The total is \",call.suma())\n",
    "print(\"The answer is \", call.Multiplicar())\n",
    "print(call.TrozosPizza())\n",
    "print(call.Factura())\n",
    "print(call.Pound())\n",
    "\n"
   ]
  },
  {
   "cell_type": "code",
   "execution_count": null,
   "metadata": {},
   "outputs": [],
   "source": []
  }
 ],
 "metadata": {
  "interpreter": {
   "hash": "bc74481f482b8b3eaeeaaefbab0b66b282a6d9008570540cf96382bf6bfb7a15"
  },
  "kernelspec": {
   "display_name": "Python 3.10.2 64-bit (windows store)",
   "language": "python",
   "name": "python3"
  },
  "language_info": {
   "codemirror_mode": {
    "name": "ipython",
    "version": 3
   },
   "file_extension": ".py",
   "mimetype": "text/x-python",
   "name": "python",
   "nbconvert_exporter": "python",
   "pygments_lexer": "ipython3",
   "version": "3.10.2"
  },
  "orig_nbformat": 4
 },
 "nbformat": 4,
 "nbformat_minor": 2
}
