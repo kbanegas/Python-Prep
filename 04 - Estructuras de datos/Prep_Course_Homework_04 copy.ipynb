{
 "cells": [
  {
   "cell_type": "markdown",
   "metadata": {},
   "source": [
    "Crear una lista que contenga nombres de ciudades del mundo que contenga más de 5 elementos e imprimir por pantalla"
   ]
  },
  {
   "cell_type": "code",
   "execution_count": 21,
   "metadata": {},
   "outputs": [
    {
     "name": "stdout",
     "output_type": "stream",
     "text": [
      "['Paris', 'Madrid', 'Bogota', 'Monte Video', 'Viena']\n"
     ]
    }
   ],
   "source": [
    "ciudadesMundo = ['Paris', 'Madrid', 'Bogota', 'Monte Video', 'Viena']\n",
    "print(ciudadesMundo)"
   ]
  },
  {
   "cell_type": "markdown",
   "metadata": {},
   "source": [
    "mprimir por pantalla el segundo elemento de la lista"
   ]
  },
  {
   "cell_type": "code",
   "execution_count": 22,
   "metadata": {},
   "outputs": [
    {
     "name": "stdout",
     "output_type": "stream",
     "text": [
      "Madrid\n"
     ]
    }
   ],
   "source": [
    "print(ciudadesMundo[1])"
   ]
  },
  {
   "cell_type": "markdown",
   "metadata": {},
   "source": [
    " Imprimir por pantalla del segundo al cuarto elemento"
   ]
  },
  {
   "cell_type": "code",
   "execution_count": 23,
   "metadata": {},
   "outputs": [
    {
     "name": "stdout",
     "output_type": "stream",
     "text": [
      "['Madrid', 'Bogota', 'Monte Video', 'Viena']\n"
     ]
    }
   ],
   "source": [
    "print(ciudadesMundo[1:5])"
   ]
  },
  {
   "cell_type": "markdown",
   "metadata": {},
   "source": [
    "Visualizar el tipo de dato de la lista\n"
   ]
  },
  {
   "cell_type": "code",
   "execution_count": 24,
   "metadata": {},
   "outputs": [
    {
     "data": {
      "text/plain": [
       "list"
      ]
     },
     "execution_count": 24,
     "metadata": {},
     "output_type": "execute_result"
    }
   ],
   "source": [
    "type(ciudadesMundo)"
   ]
  },
  {
   "cell_type": "markdown",
   "metadata": {},
   "source": [
    " Visualizar todos los elementos de la lista a partir del tercero de manera genérica, es decir, sin explicitar la posición del último elemento"
   ]
  },
  {
   "cell_type": "code",
   "execution_count": 25,
   "metadata": {},
   "outputs": [
    {
     "name": "stdout",
     "output_type": "stream",
     "text": [
      "['Bogota', 'Monte Video', 'Viena']\n"
     ]
    }
   ],
   "source": [
    "print(ciudadesMundo[2:])"
   ]
  },
  {
   "cell_type": "markdown",
   "metadata": {},
   "source": [
    " Visualizar los primeros 4 elementos de la lista"
   ]
  },
  {
   "cell_type": "code",
   "execution_count": 26,
   "metadata": {},
   "outputs": [
    {
     "name": "stdout",
     "output_type": "stream",
     "text": [
      "['Paris', 'Madrid', 'Bogota', 'Monte Video']\n"
     ]
    }
   ],
   "source": [
    "print(ciudadesMundo[:4])"
   ]
  },
  {
   "cell_type": "markdown",
   "metadata": {},
   "source": [
    "Agregar una ciudad más a la lista que ya exista y otra que no ¿Arroja algún tipo de error?"
   ]
  },
  {
   "cell_type": "code",
   "execution_count": 27,
   "metadata": {},
   "outputs": [
    {
     "name": "stdout",
     "output_type": "stream",
     "text": [
      "['Paris', 'Madrid', 'Bogota', 'Monte Video', 'Viena', 'Guadalajara']\n"
     ]
    }
   ],
   "source": [
    "ciudadesMundo.append('Guadalajara')\n",
    "print(ciudadesMundo)\n"
   ]
  },
  {
   "cell_type": "markdown",
   "metadata": {},
   "source": [
    "Agregar otra ciudad, pero en la cuarta posición"
   ]
  },
  {
   "cell_type": "code",
   "execution_count": 28,
   "metadata": {},
   "outputs": [
    {
     "name": "stdout",
     "output_type": "stream",
     "text": [
      "['Paris', 'Madrid', 'Bogota', 'Tegucigalpa', 'Monte Video', 'Viena', 'Guadalajara']\n"
     ]
    }
   ],
   "source": [
    "\n",
    "ciudadesMundo.insert(3,\"Tegucigalpa\")\n",
    "print(ciudadesMundo)"
   ]
  },
  {
   "cell_type": "code",
   "execution_count": 29,
   "metadata": {},
   "outputs": [
    {
     "ename": "ValueError",
     "evalue": "list.remove(x): x not in list",
     "output_type": "error",
     "traceback": [
      "\u001b[1;31m---------------------------------------------------------------------------\u001b[0m",
      "\u001b[1;31mValueError\u001b[0m                                Traceback (most recent call last)",
      "\u001b[1;32mc:\\Users\\karen\\OneDrive\\Documentos\\Python-Prep\\04 - Estructuras de datos\\Prep_Course_Homework_04.ipynb Cell 17'\u001b[0m in \u001b[0;36m<module>\u001b[1;34m\u001b[0m\n\u001b[1;32m----> <a href='vscode-notebook-cell:/c%3A/Users/karen/OneDrive/Documentos/Python-Prep/04%20-%20Estructuras%20de%20datos/Prep_Course_Homework_04.ipynb#ch0000016?line=0'>1</a>\u001b[0m ciudadesMundo\u001b[39m.\u001b[39;49mremove(\u001b[39m\"\u001b[39;49m\u001b[39mCosta Rica\u001b[39;49m\u001b[39m\"\u001b[39;49m)\n",
      "\u001b[1;31mValueError\u001b[0m: list.remove(x): x not in list"
     ]
    }
   ],
   "source": [
    "ciudadesMundo.remove(\"Costa Rica\")"
   ]
  },
  {
   "cell_type": "markdown",
   "metadata": {},
   "source": [
    "Concatenar otra lista a la ya creada"
   ]
  },
  {
   "cell_type": "code",
   "execution_count": 30,
   "metadata": {},
   "outputs": [],
   "source": [
    "masPaises=[\"francia\", \"Alemania\", \"Costa Rica\"]\n",
    "ciudadesMundo.extend (masPaises)\n"
   ]
  },
  {
   "cell_type": "code",
   "execution_count": 31,
   "metadata": {},
   "outputs": [
    {
     "name": "stdout",
     "output_type": "stream",
     "text": [
      "['Paris', 'Madrid', 'Bogota', 'Tegucigalpa', 'Monte Video', 'Viena', 'Guadalajara', 'francia', 'Alemania', 'Costa Rica']\n"
     ]
    }
   ],
   "source": [
    "print(ciudadesMundo)"
   ]
  },
  {
   "cell_type": "markdown",
   "metadata": {},
   "source": [
    "\n",
    "Encontrar el índice de la ciudad que en el punto 7 agregamos duplicada. ¿Se nota alguna particularidad?"
   ]
  },
  {
   "cell_type": "code",
   "execution_count": 32,
   "metadata": {},
   "outputs": [
    {
     "name": "stdout",
     "output_type": "stream",
     "text": [
      "['Alemania', 'Bogota', 'Costa Rica', 'Guadalajara', 'Madrid', 'Monte Video', 'Paris', 'Tegucigalpa', 'Viena', 'francia']\n"
     ]
    }
   ],
   "source": [
    "ciudadesMundo.sort()\n",
    "print (ciudadesMundo)"
   ]
  },
  {
   "cell_type": "code",
   "execution_count": 33,
   "metadata": {},
   "outputs": [
    {
     "data": {
      "text/plain": [
       "3"
      ]
     },
     "execution_count": 33,
     "metadata": {},
     "output_type": "execute_result"
    }
   ],
   "source": [
    "ciudadesMundo.index(\"Guadalajara\")"
   ]
  },
  {
   "cell_type": "markdown",
   "metadata": {},
   "source": [
    "¿Qué pasa si se busca un elemento que no existe?"
   ]
  },
  {
   "cell_type": "code",
   "execution_count": 34,
   "metadata": {},
   "outputs": [
    {
     "ename": "ValueError",
     "evalue": "'Mexico' is not in list",
     "output_type": "error",
     "traceback": [
      "\u001b[1;31m---------------------------------------------------------------------------\u001b[0m",
      "\u001b[1;31mValueError\u001b[0m                                Traceback (most recent call last)",
      "\u001b[1;32mc:\\Users\\karen\\OneDrive\\Documentos\\Python-Prep\\04 - Estructuras de datos\\Prep_Course_Homework_04.ipynb Cell 25'\u001b[0m in \u001b[0;36m<module>\u001b[1;34m\u001b[0m\n\u001b[1;32m----> <a href='vscode-notebook-cell:/c%3A/Users/karen/OneDrive/Documentos/Python-Prep/04%20-%20Estructuras%20de%20datos/Prep_Course_Homework_04.ipynb#ch0000024?line=0'>1</a>\u001b[0m ciudadesMundo\u001b[39m.\u001b[39;49mindex(\u001b[39m\"\u001b[39;49m\u001b[39mMexico\u001b[39;49m\u001b[39m\"\u001b[39;49m)\n",
      "\u001b[1;31mValueError\u001b[0m: 'Mexico' is not in list"
     ]
    }
   ],
   "source": [
    "ciudadesMundo.index(\"Mexico\")"
   ]
  },
  {
   "cell_type": "markdown",
   "metadata": {},
   "source": [
    "Eliminar un elemento de la lista\n",
    "\n"
   ]
  },
  {
   "cell_type": "code",
   "execution_count": 35,
   "metadata": {},
   "outputs": [
    {
     "name": "stdout",
     "output_type": "stream",
     "text": [
      "['Alemania', 'Bogota', 'Costa Rica', 'Madrid', 'Monte Video', 'Paris', 'Tegucigalpa', 'Viena', 'francia']\n"
     ]
    }
   ],
   "source": [
    "ciudadesMundo.remove(\"Guadalajara\")\n",
    "print(ciudadesMundo)"
   ]
  },
  {
   "cell_type": "markdown",
   "metadata": {},
   "source": [
    "¿Qué pasa si el elemento a eliminar no existe?"
   ]
  },
  {
   "cell_type": "code",
   "execution_count": 36,
   "metadata": {},
   "outputs": [
    {
     "ename": "ValueError",
     "evalue": "list.remove(x): x not in list",
     "output_type": "error",
     "traceback": [
      "\u001b[1;31m---------------------------------------------------------------------------\u001b[0m",
      "\u001b[1;31mValueError\u001b[0m                                Traceback (most recent call last)",
      "\u001b[1;32mc:\\Users\\karen\\OneDrive\\Documentos\\Python-Prep\\04 - Estructuras de datos\\Prep_Course_Homework_04.ipynb Cell 29'\u001b[0m in \u001b[0;36m<module>\u001b[1;34m\u001b[0m\n\u001b[1;32m----> <a href='vscode-notebook-cell:/c%3A/Users/karen/OneDrive/Documentos/Python-Prep/04%20-%20Estructuras%20de%20datos/Prep_Course_Homework_04.ipynb#ch0000028?line=0'>1</a>\u001b[0m ciudadesMundo\u001b[39m.\u001b[39;49mremove(\u001b[39m\"\u001b[39;49m\u001b[39mMexico\u001b[39;49m\u001b[39m\"\u001b[39;49m)\n\u001b[0;32m      <a href='vscode-notebook-cell:/c%3A/Users/karen/OneDrive/Documentos/Python-Prep/04%20-%20Estructuras%20de%20datos/Prep_Course_Homework_04.ipynb#ch0000028?line=1'>2</a>\u001b[0m \u001b[39mprint\u001b[39m(ciudadesMundo)\n",
      "\u001b[1;31mValueError\u001b[0m: list.remove(x): x not in list"
     ]
    }
   ],
   "source": [
    "ciudadesMundo.remove(\"Mexico\")\n",
    "print(ciudadesMundo)"
   ]
  },
  {
   "cell_type": "markdown",
   "metadata": {},
   "source": [
    "Extraer el úlimo elemento de la lista, guardarlo en una variable e imprimirlo"
   ]
  },
  {
   "cell_type": "code",
   "execution_count": 37,
   "metadata": {},
   "outputs": [
    {
     "name": "stdout",
     "output_type": "stream",
     "text": [
      "francia\n"
     ]
    }
   ],
   "source": [
    "ultimoGuardado=ciudadesMundo.pop()\n",
    "print (ultimoGuardado)"
   ]
  },
  {
   "cell_type": "markdown",
   "metadata": {},
   "source": [
    "Mostrar la lista multiplicada por 4"
   ]
  },
  {
   "cell_type": "code",
   "execution_count": 38,
   "metadata": {},
   "outputs": [
    {
     "name": "stdout",
     "output_type": "stream",
     "text": [
      "['Alemania', 'Bogota', 'Costa Rica', 'Guadalajara', 'Madrid', 'Monte Video', 'Paris', 'Teguciga', 'Alemania', 'Bogota', 'Costa Rica', 'Guadalajara', 'Madrid', 'Monte Video', 'Paris', 'Teguciga', 'Alemania', 'Bogota', 'Costa Rica', 'Guadalajara', 'Madrid', 'Monte Video', 'Paris', 'Teguciga', 'Alemania', 'Bogota', 'Costa Rica', 'Guadalajara', 'Madrid', 'Monte Video', 'Paris', 'Teguciga']\n"
     ]
    }
   ],
   "source": [
    "print(['Alemania', 'Bogota', 'Costa Rica', 'Guadalajara', 'Madrid', 'Montevideo', 'Paris', 'Tegucigalpa'] * 4)\n"
   ]
  },
  {
   "cell_type": "code",
   "execution_count": 39,
   "metadata": {},
   "outputs": [
    {
     "name": "stdout",
     "output_type": "stream",
     "text": [
      "[1, 2, 3, 4, 1, 2, 3, 4, 1, 2, 3, 4, 1, 2, 3, 4]\n"
     ]
    }
   ],
   "source": [
    "\n",
    "plist=[]\n",
    "for n in range (1,5):\n",
    "    plist.append(n)\n",
    "print(plist * 4)"
   ]
  },
  {
   "cell_type": "markdown",
   "metadata": {},
   "source": [
    "Crear una tupla que contenga los números enteros del 1 al 20"
   ]
  },
  {
   "cell_type": "code",
   "execution_count": 40,
   "metadata": {},
   "outputs": [
    {
     "name": "stdout",
     "output_type": "stream",
     "text": [
      "(1, 2, 3, 4, 5, 6, 7, 8, 9, 10, 11, 12, 13, 14, 15, 16, 17, 18, 19, 20)\n"
     ]
    }
   ],
   "source": [
    "nEnteros=[]\n",
    "\n",
    "for n in range(1,21):\n",
    "    nEnteros.append(n)\n",
    "Dplist=tuple(nEnteros)\n",
    "print(tuple(Dplist))"
   ]
  },
  {
   "cell_type": "markdown",
   "metadata": {},
   "source": [
    "Imprimir desde el índice 10 al 15 de la tupla"
   ]
  },
  {
   "cell_type": "code",
   "execution_count": 41,
   "metadata": {},
   "outputs": [
    {
     "name": "stdout",
     "output_type": "stream",
     "text": [
      "(10, 11, 12, 13, 14, 15)\n"
     ]
    }
   ],
   "source": [
    "print(Dplist[9:15])"
   ]
  },
  {
   "cell_type": "markdown",
   "metadata": {},
   "source": [
    "Evaluar si los números 20 y 30 están dentro de la tupla"
   ]
  },
  {
   "cell_type": "code",
   "execution_count": 42,
   "metadata": {},
   "outputs": [
    {
     "name": "stdout",
     "output_type": "stream",
     "text": [
      "True\n",
      "False\n"
     ]
    }
   ],
   "source": [
    "print (20 in Dplist)\n",
    "print(30 in Dplist)"
   ]
  },
  {
   "cell_type": "markdown",
   "metadata": {},
   "source": [
    "Con la lista creada en el punto 1, validar la existencia del elemento 'París' y si no existe, agregarlo. Utilizar una variable e informar lo sucedido."
   ]
  },
  {
   "cell_type": "code",
   "execution_count": 43,
   "metadata": {},
   "outputs": [
    {
     "name": "stdout",
     "output_type": "stream",
     "text": [
      "Paris  se encuentra en el listado\n"
     ]
    }
   ],
   "source": [
    "ciudadesMundo.index('Paris')\n",
    "ciudad='Paris'\n",
    "if ciudadesMundo.index('Paris')>=0:\n",
    "  print(ciudad, ' se encuentra en el listado')\n",
    "else:\n",
    "  ciudadesMundo.append(ciudad)\n",
    "  print('La ciudad', ciudad, 'fue agregada')   \n",
    "#print (list(ciudadesMundo))"
   ]
  },
  {
   "cell_type": "markdown",
   "metadata": {},
   "source": [
    "Mostrar la cantidad de veces que se encuentra un elemento específico dentro de la tupla y de la lista"
   ]
  },
  {
   "cell_type": "code",
   "execution_count": 50,
   "metadata": {},
   "outputs": [
    {
     "name": "stdout",
     "output_type": "stream",
     "text": [
      "1\n",
      "0\n"
     ]
    }
   ],
   "source": [
    "print(Dplist.count(2))\n",
    "\n",
    "print(ciudadesMundo.count('Guadalajara'))"
   ]
  },
  {
   "cell_type": "code",
   "execution_count": 46,
   "metadata": {},
   "outputs": [
    {
     "name": "stdout",
     "output_type": "stream",
     "text": [
      "(1, 2, 3, 4, 5, 6, 7, 8, 9, 10, 11, 12, 13, 14, 15, 16, 17, 18, 19, 20)\n"
     ]
    }
   ],
   "source": [
    "print(Dplist)"
   ]
  },
  {
   "cell_type": "markdown",
   "metadata": {},
   "source": [
    "Convertir la tupla en una lista"
   ]
  },
  {
   "cell_type": "code",
   "execution_count": 45,
   "metadata": {},
   "outputs": [],
   "source": [
    "listaDp=list(Dplist)"
   ]
  },
  {
   "cell_type": "markdown",
   "metadata": {},
   "source": [
    "Desempaquetar solo los primeros 3 elementos de la tupla en 3 variables"
   ]
  },
  {
   "cell_type": "code",
   "execution_count": 7,
   "metadata": {},
   "outputs": [
    {
     "name": "stdout",
     "output_type": "stream",
     "text": [
      "Alejandra   Decimo   87.25\n"
     ]
    }
   ],
   "source": [
    "tuplaAlumnos= 'Alejandra', 'Decimo', 90,80,85,94\n",
    "Nombre, grado, nota1, nota2, nota3,nota4=tuplaAlumnos\n",
    "promedio= (nota1 + nota2 + nota3 + nota4)/4\n",
    "print(Nombre,' ',grado,' ', promedio )\n"
   ]
  },
  {
   "cell_type": "markdown",
   "metadata": {},
   "source": [
    " Crear un diccionario utilizando la lista crada en el punto 1, asignandole la clave \"ciudad\". Agregar tambien otras claves, como puede ser \"Pais\" y \"Continente\""
   ]
  },
  {
   "cell_type": "code",
   "execution_count": 8,
   "metadata": {},
   "outputs": [],
   "source": [
    "primer_Diccionario={'ciudad': ['Paris', 'Madrid', 'Bogota', 'Monte Video', 'Viena'],\n",
    "                    'pais': [\"francia\", \"Alemania\", \"Costa Rica\"],\n",
    "                    'continente': ['America','Asia', 'Europa'],\n",
    "                     'clave3':10,\n",
    "                     'clave4': False}"
   ]
  },
  {
   "cell_type": "markdown",
   "metadata": {},
   "source": [
    "Imprimir las claves del diccionario\n"
   ]
  },
  {
   "cell_type": "code",
   "execution_count": 11,
   "metadata": {},
   "outputs": [
    {
     "name": "stdout",
     "output_type": "stream",
     "text": [
      "dict_keys(['ciudad', 'pais', 'continente', 'clave3', 'clave4'])\n"
     ]
    }
   ],
   "source": [
    "claves=primer_Diccionario.keys()\n",
    "print(claves)"
   ]
  },
  {
   "cell_type": "markdown",
   "metadata": {},
   "source": [
    "Imprimir las ciudades a través de su clave"
   ]
  },
  {
   "cell_type": "code",
   "execution_count": 13,
   "metadata": {},
   "outputs": [
    {
     "name": "stdout",
     "output_type": "stream",
     "text": [
      "['Paris', 'Madrid', 'Bogota', 'Monte Video', 'Viena']\n"
     ]
    }
   ],
   "source": [
    "print(primer_Diccionario['ciudad'])"
   ]
  }
 ],
 "metadata": {
  "interpreter": {
   "hash": "b35ed1df05edd0842942baf167e6250511f44c85ae8ec969dd438632ac46721e"
  },
  "kernelspec": {
   "display_name": "Python 3.9.10 64-bit",
   "language": "python",
   "name": "python3"
  },
  "language_info": {
   "codemirror_mode": {
    "name": "ipython",
    "version": 3
   },
   "file_extension": ".py",
   "mimetype": "text/x-python",
   "name": "python",
   "nbconvert_exporter": "python",
   "pygments_lexer": "ipython3",
   "version": "3.9.10"
  },
  "orig_nbformat": 4
 },
 "nbformat": 4,
 "nbformat_minor": 2
}
