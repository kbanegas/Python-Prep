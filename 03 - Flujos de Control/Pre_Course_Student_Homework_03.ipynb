{
 "cells": [
  {
   "cell_type": "markdown",
   "metadata": {},
   "source": [
    "\n",
    "\n",
    "\n",
    " Crear una variable que contenga un elemento del conjunto de números enteros y luego imprimir por pantalla si es mayor o menor a cero"
   ]
  },
  {
   "cell_type": "code",
   "execution_count": 9,
   "metadata": {},
   "outputs": [
    {
     "name": "stdout",
     "output_type": "stream",
     "text": [
      "48 Mayor que cero\n"
     ]
    }
   ],
   "source": [
    "vE=48\n",
    "if vE > 0 :\n",
    "   print(str(vE)+\" Mayor que cero\")\n",
    "elif vE < 0 :\n",
    "   print(str(vE)+\" Menor que cero\")\n"
   ]
  },
  {
   "cell_type": "markdown",
   "metadata": {},
   "source": [
    "\n",
    "\n",
    " Crear dos variables y un condicional que informe si son del mismo tipo de dato"
   ]
  },
  {
   "cell_type": "code",
   "execution_count": 22,
   "metadata": {},
   "outputs": [
    {
     "name": "stdout",
     "output_type": "stream",
     "text": [
      "Contienen del mismo tipo de datos\n"
     ]
    }
   ],
   "source": [
    "v1=45\n",
    "v2=565\n",
    "if type(v1)==type(v2):\n",
    "    print('Contienen del mismo tipo de datos')\n",
    "else:\n",
    "    print('Contiene diferente tipo de datos')    \n",
    " "
   ]
  },
  {
   "cell_type": "markdown",
   "metadata": {},
   "source": [
    "Para los valores enteros del 1 al 20, imprimir por pantalla si es par o impar"
   ]
  },
  {
   "cell_type": "code",
   "execution_count": 11,
   "metadata": {},
   "outputs": [
    {
     "name": "stdout",
     "output_type": "stream",
     "text": [
      "1 Es un número impar\n",
      "2 Es un numero par\n",
      "3 Es un número impar\n",
      "4 Es un numero par\n",
      "5 Es un número impar\n",
      "6 Es un numero par\n",
      "7 Es un número impar\n",
      "8 Es un numero par\n",
      "9 Es un número impar\n",
      "10 Es un numero par\n",
      "11 Es un número impar\n",
      "12 Es un numero par\n",
      "13 Es un número impar\n",
      "14 Es un numero par\n",
      "15 Es un número impar\n",
      "16 Es un numero par\n",
      "17 Es un número impar\n",
      "18 Es un numero par\n",
      "19 Es un número impar\n",
      "20 Es un numero par\n"
     ]
    }
   ],
   "source": [
    " \n",
    "for num in range(1,21):\n",
    "      if num==0 or num % 2 == 0:\n",
    "          print(str(num)+' Es un numero par')\n",
    "      else:\n",
    "          print(str(num)+' Es un número impar')\n",
    "               "
   ]
  },
  {
   "cell_type": "markdown",
   "metadata": {},
   "source": [
    "\n",
    "En un ciclo for mostrar para los valores entre 0 y 5 el resultado de elevarlo a la potencia igual a 3"
   ]
  },
  {
   "cell_type": "code",
   "execution_count": 13,
   "metadata": {},
   "outputs": [
    {
     "name": "stdout",
     "output_type": "stream",
     "text": [
      "Para 0 tercera potencia 0\n",
      "Para 1 tercera potencia 1\n",
      "Para 2 tercera potencia 8\n",
      "Para 3 tercera potencia 27\n",
      "Para 4 tercera potencia 64\n"
     ]
    }
   ],
   "source": [
    "for n in range(0,5):\n",
    "    potencia=n**3\n",
    "    print(\"Para \" +str(n) +\" tercera potencia \"+str(potencia))"
   ]
  },
  {
   "cell_type": "markdown",
   "metadata": {},
   "source": [
    "Crear una variable que contenga un número entero y realizar un ciclo for la misma cantidad de ciclos"
   ]
  },
  {
   "cell_type": "code",
   "execution_count": 25,
   "metadata": {},
   "outputs": [
    {
     "name": "stdout",
     "output_type": "stream",
     "text": [
      "5\n"
     ]
    }
   ],
   "source": [
    "var2=6\n",
    "\n",
    "for n in range(var2):\n",
    "   nC= n+1\n",
    "print(n)\n"
   ]
  },
  {
   "cell_type": "markdown",
   "metadata": {},
   "source": [
    "Utilizar un ciclo while para realizar el factoreo de un número guardado en una variable, sólo si la variable contiene un número entero mayor a 0"
   ]
  },
  {
   "cell_type": "code",
   "execution_count": 11,
   "metadata": {},
   "outputs": [
    {
     "name": "stdout",
     "output_type": "stream",
     "text": [
      "Numero  650 Multiplos\n",
      "              2\n",
      "              5\n",
      "              5\n",
      "              13\n"
     ]
    }
   ],
   "source": [
    "n=650\n",
    "if n>0:\n",
    "    print('Numero ', n, 'Multiplos')\n",
    "    pr = 2\n",
    "    primo2 = True\n",
    "    while (pr <= n):\n",
    "        for div in range(2, pr):\n",
    "            if (pr % div == 0):\n",
    "                primo2 = False\n",
    "                break\n",
    "        if (primo2):\n",
    "            if n==pr:\n",
    "                print(\"             \", pr)\n",
    "                break\n",
    "        while n % pr == 0:\n",
    "            n /= pr\n",
    "            print(\"             \", pr)\n",
    "           # print(n)\n",
    "        else:\n",
    "            primo2 = True\n",
    "            pr += 1           \n",
    "else:\n",
    "    print('Digite un número mayor que cero') \n",
    "      "
   ]
  },
  {
   "cell_type": "markdown",
   "metadata": {},
   "source": [
    "Crear un ciclo for dentro de un ciclo while"
   ]
  },
  {
   "cell_type": "code",
   "execution_count": 29,
   "metadata": {},
   "outputs": [
    {
     "name": "stdout",
     "output_type": "stream",
     "text": [
      "5\n",
      "11\n"
     ]
    }
   ],
   "source": [
    "n= 55\n",
    "for primo in range (2,n+1):\n",
    "    if n>0:\n",
    "        while n % primo == 0:\n",
    "            n /= primo\n",
    "            print(primo)\n",
    "    else:\n",
    "        print('Digite un número mayor que cero')        "
   ]
  },
  {
   "cell_type": "markdown",
   "metadata": {},
   "source": [
    "Ejercicio de Factorial"
   ]
  },
  {
   "cell_type": "code",
   "execution_count": 45,
   "metadata": {},
   "outputs": [
    {
     "name": "stdout",
     "output_type": "stream",
     "text": [
      "24\n"
     ]
    }
   ],
   "source": [
    "valor=4\n",
    "inicial=1\n",
    "factorial=1\n",
    "for factor in range(1,valor+1):\n",
    "    factorial*=factor\n",
    "print(factorial)\n",
    "    "
   ]
  },
  {
   "cell_type": "markdown",
   "metadata": {},
   "source": [
    "Imprimir los números primos existentes entre 0 y 30"
   ]
  },
  {
   "cell_type": "code",
   "execution_count": 16,
   "metadata": {},
   "outputs": [
    {
     "name": "stdout",
     "output_type": "stream",
     "text": [
      "2\n",
      "3\n",
      "5\n"
     ]
    }
   ],
   "source": [
    "n= 30\n",
    "for primo in range (2,n+1):\n",
    "    if n>0:\n",
    "        while n % primo == 0:\n",
    "            n /= primo\n",
    "            print(primo)\n",
    "    else:\n",
    "        print('Digite un número mayor que cero')        "
   ]
  },
  {
   "cell_type": "markdown",
   "metadata": {},
   "source": [
    "¿Se puede mejorar el proceso del punto 9? Utilizar las sentencias break y/ó continue para tal fin"
   ]
  },
  {
   "cell_type": "code",
   "execution_count": 24,
   "metadata": {},
   "outputs": [
    {
     "name": "stdout",
     "output_type": "stream",
     "text": [
      "2\n",
      "3\n",
      "5\n",
      "cantidad de ciclos 29\n"
     ]
    }
   ],
   "source": [
    "n= 30\n",
    "int1=0\n",
    "for primo in range (2,n+1):\n",
    "    int1+=1\n",
    "    if n>0:\n",
    "        while n % primo == 0:\n",
    "            n /= primo\n",
    "            print(primo)\n",
    "            continue\n",
    "    else:\n",
    "        print('Digite un número mayor que cero')  \n",
    "print('cantidad de ciclos',int1)      "
   ]
  },
  {
   "cell_type": "markdown",
   "metadata": {},
   "source": [
    "En los puntos 9 y 10, se diseño un código que encuentra números primos y además se lo optimizó. ¿Es posible saber en qué medida se optimizó?"
   ]
  },
  {
   "cell_type": "code",
   "execution_count": 22,
   "metadata": {},
   "outputs": [
    {
     "name": "stdout",
     "output_type": "stream",
     "text": [
      "2\n",
      "3\n",
      "5\n",
      "cantidad de ciclos 29\n"
     ]
    }
   ],
   "source": [
    "n= 30\n",
    "int1=0\n",
    "for primo in range (2,n+1):\n",
    "    int1 += 1\n",
    "    if n>0:\n",
    "        while n % primo == 0:\n",
    "            n /= primo\n",
    "            print(primo)\n",
    "            continue\n",
    "    else:\n",
    "        print('Digite un número mayor que cero')  \n",
    "print('cantidad de ciclos',int1)"
   ]
  },
  {
   "cell_type": "markdown",
   "metadata": {},
   "source": [
    "Si la cantidad de números que se evalúa es mayor a treinta, esa optimización crece"
   ]
  },
  {
   "cell_type": "code",
   "execution_count": 25,
   "metadata": {},
   "outputs": [
    {
     "name": "stdout",
     "output_type": "stream",
     "text": [
      "2\n",
      "3\n",
      "3\n",
      "5\n",
      "cantidad de ciclos 89\n"
     ]
    }
   ],
   "source": [
    "n= 90\n",
    "int1=0\n",
    "for primo in range (2,n+1):\n",
    "    int1 += 1\n",
    "    if n>0:\n",
    "        while n % primo == 0:\n",
    "            n /= primo\n",
    "            print(primo)\n",
    "            continue\n",
    "    else:\n",
    "        print('Digite un número mayor que cero')  \n",
    "print('cantidad de ciclos',int1)"
   ]
  },
  {
   "cell_type": "markdown",
   "metadata": {},
   "source": [
    "Aplicando continue, armar un ciclo while que solo imprima los valores divisibles por 12, dentro del rango de números de 100 a 300"
   ]
  },
  {
   "cell_type": "code",
   "execution_count": 35,
   "metadata": {},
   "outputs": [
    {
     "name": "stdout",
     "output_type": "stream",
     "text": [
      "108\n",
      "120\n",
      "132\n",
      "144\n",
      "156\n",
      "168\n",
      "180\n",
      "192\n",
      "204\n",
      "216\n",
      "228\n",
      "240\n",
      "252\n",
      "264\n",
      "276\n",
      "288\n",
      "300\n"
     ]
    }
   ],
   "source": [
    "cont1=0\n",
    "contador=100\n",
    "while 100<=contador<=300:\n",
    "    contador+=1\n",
    "    if contador%12==0:\n",
    "        print (contador)\n",
    "    else:\n",
    "        continue"
   ]
  },
  {
   "cell_type": "markdown",
   "metadata": {},
   "source": [
    "Utilizar la función input() que permite hacer ingresos por teclado, para encontrar números primos y dar la opción al usario de buscar el siguiente"
   ]
  },
  {
   "cell_type": "code",
   "execution_count": 45,
   "metadata": {},
   "outputs": [
    {
     "name": "stdout",
     "output_type": "stream",
     "text": [
      "Numero  25 Multiplos\n",
      "              5\n",
      "              5\n"
     ]
    }
   ],
   "source": [
    "n=int(input(\"Digite un número\"))\n",
    "if n>0:\n",
    "    print('Numero ', n, 'Multiplos')\n",
    "    pr = 2\n",
    "    primo2 = True\n",
    "    while (pr <= n):\n",
    "        for div in range(2, pr):\n",
    "            if (pr % div == 0):\n",
    "                primo2 = False\n",
    "                break\n",
    "        if (primo2):\n",
    "            if n==pr:\n",
    "                print(\"             \", pr)\n",
    "                break\n",
    "        while n % pr == 0:\n",
    "            n /= pr\n",
    "            print(\"             \", pr)\n",
    "            continuar=input(\"Desea continuar N/S\")\n",
    "            if continuar=='s' or continuar=='S':\n",
    "                continue\n",
    "            else:\n",
    "                break\n",
    "           # print(n)\n",
    "        else:\n",
    "            primo2 = True\n",
    "            pr += 1           \n",
    "else:\n",
    "    print('Digite un número mayor que cero') \n",
    "      \n",
    "       \n",
    "\n"
   ]
  },
  {
   "cell_type": "markdown",
   "metadata": {},
   "source": [
    "Crear un ciclo while que encuentre dentro del rango de 100 a 300 el primer número divisible por 3 y además múltiplo de 6"
   ]
  },
  {
   "cell_type": "code",
   "execution_count": 57,
   "metadata": {},
   "outputs": [
    {
     "name": "stdout",
     "output_type": "stream",
     "text": [
      "multiplos de tres  102\n"
     ]
    }
   ],
   "source": [
    "pr=6\n",
    "n=100\n",
    "while 100<=n<=300:\n",
    "    if n % pr==0:\n",
    "        print (\"multiplos de tres \",  n)\n",
    "        n+=1\n",
    "        break\n",
    "    n+=1\n",
    "\n",
    "         "
   ]
  }
 ],
 "metadata": {
  "interpreter": {
   "hash": "b35ed1df05edd0842942baf167e6250511f44c85ae8ec969dd438632ac46721e"
  },
  "kernelspec": {
   "display_name": "Python 3.9.10 64-bit",
   "language": "python",
   "name": "python3"
  },
  "language_info": {
   "codemirror_mode": {
    "name": "ipython",
    "version": 3
   },
   "file_extension": ".py",
   "mimetype": "text/x-python",
   "name": "python",
   "nbconvert_exporter": "python",
   "pygments_lexer": "ipython3",
   "version": "3.9.10"
  },
  "orig_nbformat": 4
 },
 "nbformat": 4,
 "nbformat_minor": 2
}
