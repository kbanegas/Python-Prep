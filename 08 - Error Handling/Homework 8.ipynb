{
 "cells": [
  {
   "cell_type": "markdown",
   "metadata": {},
   "source": [
    "Con la clase creada en el módulo 7, tener en cuenta diferentes casos en que el código pudiera arrojar error. Por ejemplo, en la creación del objeto recibimos una lista de números enteros pero ¿qué pasa si se envía otro tipo de dato?"
   ]
  },
  {
   "cell_type": "code",
   "execution_count": 1,
   "metadata": {},
   "outputs": [],
   "source": [
    "import sys\n",
    "sys.path.append (r'/C:/Users/karen/OneDrive/Documentos/Python-Prep/08 - Error Handling/Clase1.py')\n"
   ]
  },
  {
   "cell_type": "code",
   "execution_count": 2,
   "metadata": {},
   "outputs": [],
   "source": [
    "import Clase1 as Cl"
   ]
  },
  {
   "cell_type": "code",
   "execution_count": 3,
   "metadata": {},
   "outputs": [
    {
     "ename": "ValueError",
     "evalue": "Se ha creado con un elemento cero, se esperaba una lista de numeros",
     "output_type": "error",
     "traceback": [
      "\u001b[1;31m---------------------------------------------------------------------------\u001b[0m",
      "\u001b[1;31mValueError\u001b[0m                                Traceback (most recent call last)",
      "\u001b[1;32mc:\\Users\\karen\\OneDrive\\Documentos\\Python-Prep\\08 - Error Handling\\Homework 8.ipynb Cell 4'\u001b[0m in \u001b[0;36m<module>\u001b[1;34m\u001b[0m\n\u001b[1;32m----> <a href='vscode-notebook-cell:/c%3A/Users/karen/OneDrive/Documentos/Python-Prep/08%20-%20Error%20Handling/Homework%208.ipynb#ch0000003?line=0'>1</a>\u001b[0m h\u001b[39m=\u001b[39mCl\u001b[39m.\u001b[39;49mHerramientas(\u001b[39m\"\u001b[39;49m\u001b[39mhola\u001b[39;49m\u001b[39m\"\u001b[39;49m)\n",
      "File \u001b[1;32mc:\\Users\\karen\\OneDrive\\Documentos\\Python-Prep\\08 - Error Handling\\Clase1.py:5\u001b[0m, in \u001b[0;36mHerramientas.__init__\u001b[1;34m(self, listaNumeros1)\u001b[0m\n\u001b[0;32m      <a href='file:///c%3A/Users/karen/OneDrive/Documentos/Python-Prep/08%20-%20Error%20Handling/Clase1.py?line=2'>3</a>\u001b[0m \u001b[39mif\u001b[39;00m \u001b[39mtype\u001b[39m(listaNumeros1) \u001b[39m!=\u001b[39m \u001b[39mlist\u001b[39m:\n\u001b[0;32m      <a href='file:///c%3A/Users/karen/OneDrive/Documentos/Python-Prep/08%20-%20Error%20Handling/Clase1.py?line=3'>4</a>\u001b[0m     \u001b[39mself\u001b[39m\u001b[39m.\u001b[39mlista\u001b[39m=\u001b[39m[\u001b[39m0\u001b[39m]\n\u001b[1;32m----> <a href='file:///c%3A/Users/karen/OneDrive/Documentos/Python-Prep/08%20-%20Error%20Handling/Clase1.py?line=4'>5</a>\u001b[0m     \u001b[39mraise\u001b[39;00m \u001b[39mValueError\u001b[39;00m(\u001b[39m'\u001b[39m\u001b[39mSe ha creado con un elemento cero, se esperaba una lista de numeros\u001b[39m\u001b[39m'\u001b[39m)\n\u001b[0;32m      <a href='file:///c%3A/Users/karen/OneDrive/Documentos/Python-Prep/08%20-%20Error%20Handling/Clase1.py?line=5'>6</a>\u001b[0m \u001b[39melse\u001b[39;00m:\n\u001b[0;32m      <a href='file:///c%3A/Users/karen/OneDrive/Documentos/Python-Prep/08%20-%20Error%20Handling/Clase1.py?line=6'>7</a>\u001b[0m     \u001b[39mself\u001b[39m\u001b[39m.\u001b[39mlista\u001b[39m=\u001b[39mlistaNumeros1\n",
      "\u001b[1;31mValueError\u001b[0m: Se ha creado con un elemento cero, se esperaba una lista de numeros"
     ]
    }
   ],
   "source": [
    "h=Cl.Herramientas(\"hola\")"
   ]
  },
  {
   "cell_type": "code",
   "execution_count": 4,
   "metadata": {},
   "outputs": [],
   "source": [
    "h=Cl.Herramientas([2,5,2,4,2,6,2,11,10])"
   ]
  },
  {
   "cell_type": "markdown",
   "metadata": {},
   "source": [
    "En la función que hace la conversión de grados, validar que los parámetros enviados sean los esperados, de no serlo, informar cuáles son los valores esperados."
   ]
  },
  {
   "cell_type": "code",
   "execution_count": 10,
   "metadata": {},
   "outputs": [],
   "source": [
    "import importlib"
   ]
  },
  {
   "cell_type": "code",
   "execution_count": 11,
   "metadata": {},
   "outputs": [
    {
     "data": {
      "text/plain": [
       "<module 'Clase1' from 'c:\\\\Users\\\\karen\\\\OneDrive\\\\Documentos\\\\Python-Prep\\\\08 - Error Handling\\\\Clase1.py'>"
      ]
     },
     "execution_count": 11,
     "metadata": {},
     "output_type": "execute_result"
    }
   ],
   "source": [
    "\n",
    "importlib.reload(Cl)"
   ]
  },
  {
   "cell_type": "code",
   "execution_count": 99,
   "metadata": {},
   "outputs": [
    {
     "name": "stdout",
     "output_type": "stream",
     "text": [
      "el valor de conversión es igual a el mismo\n"
     ]
    }
   ],
   "source": [
    "h.convierte(45,3,3)"
   ]
  },
  {
   "cell_type": "code",
   "execution_count": 102,
   "metadata": {},
   "outputs": [
    {
     "name": "stdout",
     "output_type": "stream",
     "text": [
      " Convirtiendo 1 Kelvin a Farenheit su resultado es 33.8\n",
      " Convirtiendo 2 Kelvin a Farenheit su resultado es 35.6\n",
      " Convirtiendo 3 Kelvin a Farenheit su resultado es 37.4\n",
      " Convirtiendo 3 Kelvin a Farenheit su resultado es 37.4\n",
      " Convirtiendo 4 Kelvin a Farenheit su resultado es 39.2\n"
     ]
    },
    {
     "data": {
      "text/plain": [
       "[33.8, 35.6, 37.4, 37.4, 39.2]"
      ]
     },
     "execution_count": 102,
     "metadata": {},
     "output_type": "execute_result"
    }
   ],
   "source": [
    "h.CTemperturaL(3,2)"
   ]
  },
  {
   "cell_type": "code",
   "execution_count": 186,
   "metadata": {},
   "outputs": [
    {
     "name": "stdout",
     "output_type": "stream",
     "text": [
      "el valor [4] se repite [3] veces\n"
     ]
    },
    {
     "data": {
      "text/plain": [
       "([4], [3], [3], [2])"
      ]
     },
     "execution_count": 186,
     "metadata": {},
     "output_type": "execute_result"
    }
   ],
   "source": [
    "h.Modal(False)"
   ]
  },
  {
   "cell_type": "code",
   "execution_count": 17,
   "metadata": {},
   "outputs": [
    {
     "data": {
      "text/plain": [
       "[2, 11, 5]"
      ]
     },
     "execution_count": 17,
     "metadata": {},
     "output_type": "execute_result"
    }
   ],
   "source": [
    "h.numeroPrimo2()"
   ]
  },
  {
   "cell_type": "code",
   "execution_count": 18,
   "metadata": {},
   "outputs": [
    {
     "data": {
      "text/plain": [
       "False"
      ]
     },
     "execution_count": 18,
     "metadata": {},
     "output_type": "execute_result"
    }
   ],
   "source": [
    "h.numeroPrimo1(10)"
   ]
  },
  {
   "cell_type": "code",
   "execution_count": 20,
   "metadata": {},
   "outputs": [
    {
     "data": {
      "text/plain": [
       "[2, 5, 2, 4, 2, 6, 2, 11, 10]"
      ]
     },
     "execution_count": 20,
     "metadata": {},
     "output_type": "execute_result"
    }
   ],
   "source": [
    "h.VerificanumeroPrimo2()"
   ]
  },
  {
   "cell_type": "markdown",
   "metadata": {},
   "source": [
    "Importar el modulo \"unittest\" y crear los siguientes casos de pruebas sobre la clase utilizada en el punto 2\n",
    "Creacion del objeto incorrecta\n",
    "Creacion correcta del objeto\n",
    "Metodo valor_modal()\n",
    "Se puede usar \"raise ValueError()\" en la creación de la clase para verificar el error. Investigar sobre esta funcionalidad."
   ]
  },
  {
   "cell_type": "code",
   "execution_count": 5,
   "metadata": {},
   "outputs": [],
   "source": [
    "import unittest"
   ]
  },
  {
   "cell_type": "code",
   "execution_count": 54,
   "metadata": {},
   "outputs": [],
   "source": [
    "class pruebas_Clase1(unittest.TestCase):\n",
    "    \n",
    "    def testcreandoObjeto1 (self):\n",
    "        parametro=\"hola\"\n",
    "        self.assertRaises(ValueError,Cl.Herramientas, parametro)\n",
    "        #self.failUnlessRaises(ValueError, h.Herramientas, param)\n",
    "\n",
    "    def testcrearobjeto2(self):\n",
    "        parametro=[1,2,2,5]\n",
    "        h1=Cl.Herramientas(parametro)\n",
    "        self.assertEqual(h1.lista,parametro)\n",
    "    def testvalormodal(self):\n",
    "        \n",
    "        lis = [1,2,1,3,3,3,4]\n",
    "        h1=Cl.Herramientas(lis)\n",
    "        maxmoda,maxveces,minmoda,minveces=h1.Modal(True)\n",
    "        maxmoda=[maxmoda]\n",
    "        maxmoda.append(maxveces)\n",
    "        minmoda=[minmoda]\n",
    "        minmoda.append(minveces)\n",
    "        resultado =[[3],[3]]\n",
    "        resultado2=[[1],[2]]\n",
    "        self.assertEqual(maxmoda,resultado)\n",
    "        self.assertEqual(minmoda,resultado2)\n",
    "      \n",
    "        \n",
    "      \n",
    "    "
   ]
  },
  {
   "cell_type": "code",
   "execution_count": 209,
   "metadata": {},
   "outputs": [
    {
     "name": "stderr",
     "output_type": "stream",
     "text": [
      "testcreandoObjeto1 (__main__.pruebas_Clase1) ... ok\n",
      "testcrearobjeto2 (__main__.pruebas_Clase1) ... ok\n",
      "testvalormodal (__main__.pruebas_Clase1) ... ok\n",
      "\n",
      "----------------------------------------------------------------------\n",
      "Ran 3 tests in 0.014s\n",
      "\n",
      "OK\n"
     ]
    },
    {
     "name": "stdout",
     "output_type": "stream",
     "text": [
      "el valor [1] se repite [2] veces\n"
     ]
    },
    {
     "data": {
      "text/plain": [
       "<unittest.main.TestProgram at 0x24036776b20>"
      ]
     },
     "execution_count": 209,
     "metadata": {},
     "output_type": "execute_result"
    }
   ],
   "source": [
    "unittest.main(argv=[''],verbosity=2,exit=False)"
   ]
  },
  {
   "cell_type": "markdown",
   "metadata": {},
   "source": [
    "Probar una creación incorrecta y visualizar la salida del \"raise\""
   ]
  },
  {
   "cell_type": "code",
   "execution_count": 210,
   "metadata": {},
   "outputs": [
    {
     "ename": "ValueError",
     "evalue": "Se ha creado con un elemento cero, se esperaba una lista de numeros",
     "output_type": "error",
     "traceback": [
      "\u001b[1;31m---------------------------------------------------------------------------\u001b[0m",
      "\u001b[1;31mValueError\u001b[0m                                Traceback (most recent call last)",
      "\u001b[1;32mc:\\Users\\karen\\OneDrive\\Documentos\\Python-Prep\\08 - Error Handling\\Homework 8.ipynb Cell 17'\u001b[0m in \u001b[0;36m<module>\u001b[1;34m\u001b[0m\n\u001b[1;32m----> <a href='vscode-notebook-cell:/c%3A/Users/karen/OneDrive/Documentos/Python-Prep/08%20-%20Error%20Handling/Homework%208.ipynb#ch0000022?line=0'>1</a>\u001b[0m h2\u001b[39m=\u001b[39mCl\u001b[39m.\u001b[39;49mHerramientas(\u001b[39m\"\u001b[39;49m\u001b[39malgo\u001b[39;49m\u001b[39m\"\u001b[39;49m)\n",
      "File \u001b[1;32mc:\\Users\\karen\\OneDrive\\Documentos\\Python-Prep\\08 - Error Handling\\Clase1.py:5\u001b[0m, in \u001b[0;36mHerramientas.__init__\u001b[1;34m(self, listaNumeros1)\u001b[0m\n\u001b[0;32m      <a href='file:///c%3A/Users/karen/OneDrive/Documentos/Python-Prep/08%20-%20Error%20Handling/Clase1.py?line=2'>3</a>\u001b[0m \u001b[39mif\u001b[39;00m \u001b[39mtype\u001b[39m(listaNumeros1) \u001b[39m!=\u001b[39m \u001b[39mlist\u001b[39m:\n\u001b[0;32m      <a href='file:///c%3A/Users/karen/OneDrive/Documentos/Python-Prep/08%20-%20Error%20Handling/Clase1.py?line=3'>4</a>\u001b[0m     \u001b[39mself\u001b[39m\u001b[39m.\u001b[39mlista\u001b[39m=\u001b[39m[\u001b[39m0\u001b[39m]\n\u001b[1;32m----> <a href='file:///c%3A/Users/karen/OneDrive/Documentos/Python-Prep/08%20-%20Error%20Handling/Clase1.py?line=4'>5</a>\u001b[0m     \u001b[39mraise\u001b[39;00m \u001b[39mValueError\u001b[39;00m(\u001b[39m'\u001b[39m\u001b[39mSe ha creado con un elemento cero, se esperaba una lista de numeros\u001b[39m\u001b[39m'\u001b[39m)\n\u001b[0;32m      <a href='file:///c%3A/Users/karen/OneDrive/Documentos/Python-Prep/08%20-%20Error%20Handling/Clase1.py?line=5'>6</a>\u001b[0m \u001b[39melse\u001b[39;00m:\n\u001b[0;32m      <a href='file:///c%3A/Users/karen/OneDrive/Documentos/Python-Prep/08%20-%20Error%20Handling/Clase1.py?line=6'>7</a>\u001b[0m     \u001b[39mself\u001b[39m\u001b[39m.\u001b[39mlista\u001b[39m=\u001b[39mlistaNumeros1\n",
      "\u001b[1;31mValueError\u001b[0m: Se ha creado con un elemento cero, se esperaba una lista de numeros"
     ]
    }
   ],
   "source": [
    "h2=Cl.Herramientas(\"algo\")"
   ]
  },
  {
   "cell_type": "markdown",
   "metadata": {},
   "source": [
    "Agregar casos de pruebas para el método verifica_primos() realizando el cambio en la clase, para que devuelva una lista de True o False en función de que el elemento en la posisicón sea o no primo"
   ]
  },
  {
   "cell_type": "code",
   "execution_count": 55,
   "metadata": {},
   "outputs": [],
   "source": [
    "class probandoclase2(unittest.TestCase):\n",
    "    def testverificaprimo(self):\n",
    "        lis=[2,5,2,4,2,6,2,11,10]\n",
    "        h1=Cl.Herramientas(lis)\n",
    "        primos=h1.VerificanumeroPrimo1()\n",
    "        primos_esperados=[True,True,True,False,True,False,True,True,False]\n",
    "        self.assertEqual(primos,primos_esperados)"
   ]
  },
  {
   "cell_type": "code",
   "execution_count": 27,
   "metadata": {},
   "outputs": [
    {
     "name": "stderr",
     "output_type": "stream",
     "text": [
      "testverificaprimo (__main__.probandoclase2) ... ok\n",
      "\n",
      "----------------------------------------------------------------------\n",
      "Ran 1 test in 0.003s\n",
      "\n",
      "OK\n"
     ]
    },
    {
     "data": {
      "text/plain": [
       "<unittest.main.TestProgram at 0x202d0e83910>"
      ]
     },
     "execution_count": 27,
     "metadata": {},
     "output_type": "execute_result"
    }
   ],
   "source": [
    "unittest.main(argv=[''],verbosity=2,exit=False)"
   ]
  },
  {
   "cell_type": "markdown",
   "metadata": {},
   "source": [
    "Agregar casos de pruebas para el método conversion_grados()"
   ]
  },
  {
   "cell_type": "code",
   "execution_count": 64,
   "metadata": {},
   "outputs": [],
   "source": [
    "class testconversiongrado (unittest.TestCase):\n",
    "    def testconversion(self):\n",
    "        lis=[2,3,8,10,13]\n",
    "        h1= Cl.Herramientas(lis)\n",
    "        grados= h1.CTemperturaL(1,2)\n",
    "        grados_esperados=[35.6,37.4,46.4,50.0,55.4]\n",
    "        self.assertEqual(grados,grados_esperados)\n",
    "        "
   ]
  },
  {
   "cell_type": "code",
   "execution_count": 57,
   "metadata": {},
   "outputs": [
    {
     "name": "stderr",
     "output_type": "stream",
     "text": [
      "testverificaprimo (__main__.probandoclase2) ... ok\n",
      "testcreandoObjeto1 (__main__.pruebas_Clase1) ... ok\n",
      "testcrearobjeto2 (__main__.pruebas_Clase1) ... ok\n",
      "testvalormodal (__main__.pruebas_Clase1) ... ok\n",
      "testconversion (__main__.testconversiongrado) ... ok\n",
      "\n",
      "----------------------------------------------------------------------\n",
      "Ran 5 tests in 0.017s\n",
      "\n",
      "OK\n"
     ]
    },
    {
     "name": "stdout",
     "output_type": "stream",
     "text": [
      "el valor [1] se repite [2] veces\n",
      " Convirtiendo 2 Celsios a Farenheit su resultado es 35.6   Farenheit\n",
      " Convirtiendo 3 Celsios a Farenheit su resultado es 37.4   Farenheit\n",
      " Convirtiendo 8 Celsios a Farenheit su resultado es 46.4   Farenheit\n",
      " Convirtiendo 10 Celsios a Farenheit su resultado es 50.0   Farenheit\n",
      " Convirtiendo 13 Celsios a Farenheit su resultado es 55.4   Farenheit\n"
     ]
    },
    {
     "data": {
      "text/plain": [
       "<unittest.main.TestProgram at 0x202d0f54a60>"
      ]
     },
     "execution_count": 57,
     "metadata": {},
     "output_type": "execute_result"
    }
   ],
   "source": [
    "unittest.main(argv=[''], verbosity=2,exit=False)"
   ]
  },
  {
   "cell_type": "markdown",
   "metadata": {},
   "source": [
    "Agregar casos de pruebas para el método factorial()"
   ]
  },
  {
   "cell_type": "code",
   "execution_count": 9,
   "metadata": {},
   "outputs": [],
   "source": [
    "class testfactorial (unittest.TestCase):\n",
    "    def testparafactorial(self):\n",
    "        lis=[2,3,8,10,13]\n",
    "        h1=Cl.Herramientas(lis)\n",
    "        factoreal1= h1.factorial()\n",
    "        factoreal_esperado=[2,6,40320,3628800,6227020800]\n",
    "        self.assertEqual(factoreal1,factoreal_esperado)\n",
    "        "
   ]
  },
  {
   "cell_type": "code",
   "execution_count": 10,
   "metadata": {},
   "outputs": [
    {
     "name": "stderr",
     "output_type": "stream",
     "text": [
      "testparafactorial (__main__.testfactorial) ... ok\n",
      "\n",
      "----------------------------------------------------------------------\n",
      "Ran 1 test in 0.002s\n",
      "\n",
      "OK\n"
     ]
    },
    {
     "data": {
      "text/plain": [
       "<unittest.main.TestProgram at 0x2749de487c0>"
      ]
     },
     "execution_count": 10,
     "metadata": {},
     "output_type": "execute_result"
    }
   ],
   "source": [
    "unittest.main(argv=[''], verbosity=2, exit=False)"
   ]
  }
 ],
 "metadata": {
  "interpreter": {
   "hash": "b35ed1df05edd0842942baf167e6250511f44c85ae8ec969dd438632ac46721e"
  },
  "kernelspec": {
   "display_name": "Python 3.9.10 64-bit",
   "language": "python",
   "name": "python3"
  },
  "language_info": {
   "codemirror_mode": {
    "name": "ipython",
    "version": 3
   },
   "file_extension": ".py",
   "mimetype": "text/x-python",
   "name": "python",
   "nbconvert_exporter": "python",
   "pygments_lexer": "ipython3",
   "version": "3.9.10"
  },
  "orig_nbformat": 4
 },
 "nbformat": 4,
 "nbformat_minor": 2
}
